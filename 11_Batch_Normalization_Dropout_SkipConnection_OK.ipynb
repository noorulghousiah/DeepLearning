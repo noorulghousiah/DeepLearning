{
  "cells": [
    {
      "cell_type": "markdown",
      "metadata": {
        "id": "view-in-github",
        "colab_type": "text"
      },
      "source": [
        "<a href=\"https://colab.research.google.com/github/noorulghousiah/DeepLearning/blob/main/11_Batch_Normalization_Dropout_SkipConnection_OK.ipynb\" target=\"_parent\"><img src=\"https://colab.research.google.com/assets/colab-badge.svg\" alt=\"Open In Colab\"/></a>"
      ]
    },
    {
      "cell_type": "markdown",
      "source": [
        "## Import and dataloaders\n",
        "\n",
        "Before starting this tutorial, let's  import and define our dataloaders for CIFAR10."
      ],
      "metadata": {
        "id": "Z1P5KUInW6uY"
      }
    },
    {
      "cell_type": "code",
      "source": [
        "# Import PyTorch\n",
        "import torch\n",
        "from torch import nn\n",
        "\n",
        "# Import torchvision\n",
        "import torchvision\n",
        "from torchvision import datasets\n",
        "# from torchvision.transforms import ToTensor\n",
        "import torchvision.transforms as transforms\n",
        "\n",
        "# Import matplotlib for visualization\n",
        "import matplotlib.pyplot as plt\n",
        "\n",
        "# Check versions\n",
        "# Note: your PyTorch version shouldn't be lower than 1.10.0 and torchvision version shouldn't be lower than 0.11\n",
        "print(f\"PyTorch version: {torch.__version__}\\ntorchvision version: {torchvision.__version__}\")"
      ],
      "metadata": {
        "colab": {
          "base_uri": "https://localhost:8080/"
        },
        "id": "KuPXfbU0XFIw",
        "outputId": "7ac5cbf5-bbab-4dec-ce03-8008848489ad"
      },
      "execution_count": 1,
      "outputs": [
        {
          "output_type": "stream",
          "name": "stdout",
          "text": [
            "PyTorch version: 2.6.0+cu124\n",
            "torchvision version: 0.21.0+cu124\n"
          ]
        }
      ]
    },
    {
      "cell_type": "code",
      "source": [
        "class CIFAR10Dataset(torch.utils.data.Dataset):\n",
        "    def __init__(self, root='./data', train=True, transform=None, download=True):\n",
        "        self.data = torchvision.datasets.CIFAR10(root=root, train=train, download=download, transform=transform)\n",
        "\n",
        "    def __len__(self):\n",
        "        return len(self.data)\n",
        "\n",
        "    def __getitem__(self, idx):\n",
        "        return self.data[idx]  # Returns (image, label) tuple\n",
        "\n",
        "def get_dataloader(batch_size=4, num_workers=0, root='./data'):\n",
        "    transform = transforms.Compose([\n",
        "        transforms.ToTensor(),\n",
        "        transforms.Normalize((0.5, 0.5, 0.5), (0.5, 0.5, 0.5))\n",
        "    ])\n",
        "\n",
        "    train_dataset = CIFAR10Dataset(root=root, train=True, transform=transform)\n",
        "    test_dataset = CIFAR10Dataset(root=root, train=False, transform=transform)\n",
        "\n",
        "    train_dataloader = torch.utils.data.DataLoader(train_dataset, batch_size=batch_size, shuffle=True, num_workers=num_workers)\n",
        "    test_dataloader = torch.utils.data.DataLoader(test_dataset, batch_size=batch_size, shuffle=False, num_workers=num_workers)\n",
        "\n",
        "    return train_dataloader, test_dataloader\n",
        "\n",
        "# Get dataloaders\n",
        "train_dataloader, test_dataloader = get_dataloader(batch_size=16, num_workers=0)\n",
        "\n",
        "# Define class names\n",
        "class_names = ('plane', 'car', 'bird', 'cat', 'deer', 'dog', 'frog', 'horse', 'ship', 'truck')\n",
        "\n",
        "batch_size = 16"
      ],
      "metadata": {
        "colab": {
          "base_uri": "https://localhost:8080/"
        },
        "id": "2Nq55v6GXSqi",
        "outputId": "9c14206d-f449-4f24-a86a-9d7388925bac"
      },
      "execution_count": 2,
      "outputs": [
        {
          "output_type": "stream",
          "name": "stderr",
          "text": [
            "100%|██████████| 170M/170M [00:13<00:00, 13.1MB/s]\n"
          ]
        }
      ]
    },
    {
      "cell_type": "code",
      "source": [
        "# Let's check out what we've created\n",
        "print(f\"Dataloaders: {train_dataloader, test_dataloader}\")\n",
        "print(f\"Length of train dataloader: {len(train_dataloader)} batches of {batch_size}\")\n",
        "print(f\"Length of test dataloader: {len(test_dataloader)} batches of {batch_size}\")"
      ],
      "metadata": {
        "colab": {
          "base_uri": "https://localhost:8080/"
        },
        "id": "OANDTmKwXYww",
        "outputId": "10e79f02-f6ce-4e21-ad0d-a213842a00d2"
      },
      "execution_count": 3,
      "outputs": [
        {
          "output_type": "stream",
          "name": "stdout",
          "text": [
            "Dataloaders: (<torch.utils.data.dataloader.DataLoader object at 0x7ead0b328590>, <torch.utils.data.dataloader.DataLoader object at 0x7ead13d7e010>)\n",
            "Length of train dataloader: 3125 batches of 16\n",
            "Length of test dataloader: 625 batches of 16\n"
          ]
        }
      ]
    },
    {
      "cell_type": "markdown",
      "metadata": {
        "id": "HVihl7rPFO9W"
      },
      "source": [
        "## Batch Normalization and Dropout\n",
        "\n",
        "Discover how batch normalization and dropout improve a model's accuracy.\n",
        "\n",
        "We will be covering:\n",
        "\n",
        "- Batch Normalization\n",
        "\n",
        "- Notations\n",
        "\n",
        "- Advantages and disadvantages of using batch normalization\n",
        "\n",
        "- Dropout\n",
        "\n",
        "### Batch Normalization\n",
        "\n",
        "If you open any introductory machine learning textbook, you will find the idea of **input scaling**. It is undesirable to train a model with **gradient descent** with non-normalized input features.\n",
        "\n",
        "Let’s start with an intuitive example to understand why we want normalization inside any model.\n",
        "\n",
        "Suppose you have an input feature $x1$ in the range [0,10000] and another feature $x2$ in the range [0,1]. Any linear combination would ignore $x2$ such that $x1*w1 + x2*w2 \\approx x1$, since our weights are initialized in a very tiny range like [-1,1].\n",
        "\n",
        "We encounter the same issues inside the layers of deep neural networks. In this lesson, we will propagate this idea inside the NN.\n",
        "\n",
        "> If we think out of the box, any intermediate layer is conceptually the same as the input layer; it accepts features and transforms them"
      ]
    },
    {
      "cell_type": "markdown",
      "metadata": {
        "id": "78X-xhlyFO9y"
      },
      "source": [
        "### Notations\n",
        "\n",
        "Throughout this lesson, $N$ will be the batch size, $H$ will refer to the height, $W$ to the width, and $C$ to the feature channels. The greek letter $\\mu()$ refers to mean and the greek letter $\\sigma()$ refers to standard deviation.\n",
        "\n",
        "The batch features are denoted by $x$ with a shape of $[N, C, H, W]$.\n",
        "\n",
        "![pic](https://raw.githubusercontent.com/CUTe-EmbeddedAI/images/main/images/fig22.PNG)\n",
        "\n",
        "We will visualize the 4D activation maps x by **merging the spatial dimensions**. Now, we have a 3D shape that looks like this:\n",
        "\n",
        "![pic](https://raw.githubusercontent.com/CUTe-EmbeddedAI/images/main/images/fig23.PNG)\n",
        "\n",
        "The most dominant solution is batch normalization. Let’s see how it works.\n",
        "\n",
        "> Batch Normalization (BN) normalizes the mean and standard deviation **for each individual feature channel/map**.\n",
        "\n",
        "First of all, the mean and standard deviation are first-order statistics, and thus they relate to the **global characteristics** (such as the image style).\n",
        "\n",
        "In this way, we somehow blend the global characteristics. Such a strategy is effective when we want our representation to share these characteristics. This is the reason that we widely utilize BN in downstream tasks (i.e., image classification).\n",
        "\n",
        "From a mathematical point of view, **you can think of it as bringing the features of the image in the same range**.\n",
        "\n",
        "![pic](https://raw.githubusercontent.com/CUTe-EmbeddedAI/images/main/images/fig24.PNG)\n",
        "\n",
        "Specifically, we demand from our features to follow a Gaussian distribution with zero mean and unit variance. Mathematically, this can be expressed as:\n",
        "\n",
        "![pic](https://raw.githubusercontent.com/CUTe-EmbeddedAI/images/main/images/fig25.PNG)\n",
        "\n",
        "The index $c$ denotes the per-channel (feature map) mean.\n",
        "\n",
        "Let’s see this operation visually:\n",
        "\n",
        "![pic](https://raw.githubusercontent.com/CUTe-EmbeddedAI/images/main/images/fig26.PNG)\n",
        "\n",
        "Notably, the spatial dimensions as well as the image batch are averaged. This way, **we concentrate our features in a compact Gaussian-like space**, which is usually beneficial.\n",
        "\n",
        "In fact, $\\gamma$ and $\\beta$ correspond to the trainable parameters that result in the linear/affine transformation, which is different for all channels.\n",
        "\n",
        "Specifically $\\gamma$ and $\\beta$ are vectors with the channel dimensionality."
      ]
    },
    {
      "cell_type": "markdown",
      "metadata": {
        "id": "Iq4OEKm3FO95"
      },
      "source": [
        "### Advantages and disadvantages of using batch normalization\n",
        "\n",
        "The following are some **advantages** of BN:\n",
        "\n",
        "- BN accelerates the training of deep neural networks and tackles the vanishing gradient problem.\n",
        "\n",
        "- For every input mini-batch, we calculate different statistics. This introduces some sort of regularization. Regularization refers to any form of technique/constraint that restricts the complexity of a deep neural network during training.\n",
        "\n",
        "- BN also has a beneficial effect on the gradient flow through the network. It reduces the dependence of gradients on the scale of the parameters or of their initial values. This allows us to use much higher learning rates.\n",
        "\n",
        "- In theory, BN makes it possible to use saturating nonlinearities by preventing the network from getting stuck, but we just use nn.ReLU().\n",
        "\n",
        "- BN makes the gradients more predictive.\n",
        "\n",
        "BN has the following **disadvantages**:\n",
        "\n",
        "- Batch normalization may cause inaccurate estimation of batch statistics when we have a small batch size. This increases the model error. In tasks such as image segmentation, the batch size is usually too small. BN needs a sufficiently large batch size.\n",
        "\n",
        "Let’s now implement batch normalization from scratch for images of size $[N, C, H, W]$. All you have to do is transform the above equations to Pytorch. The tricky part is to correctly figure out the sizes of each tensor."
      ]
    },
    {
      "cell_type": "code",
      "execution_count": 4,
      "metadata": {
        "id": "c9RMg8gtFO9-"
      },
      "outputs": [],
      "source": [
        "import torch\n",
        "\n",
        "# Gamma and beta are provided as 1d tensors.\n",
        "# X is the data in a mini-batch\n",
        "\n",
        "def batchnorm(X, gamma, beta):\n",
        "\n",
        "    # extract the dimensions\n",
        "    N, C, H, W = list(X.size())\n",
        "    # mini-batch mean\n",
        "    mean = torch.mean(X, dim=(0, 2, 3))\n",
        "    # mini-batch variance\n",
        "    variance = torch.mean((X - mean.reshape((1, C, 1, 1))) ** 2, dim=(0, 2, 3))\n",
        "    # normalize\n",
        "    X_hat = (X - mean.reshape((1, C, 1, 1))) * 1.0 / torch.sqrt(variance.reshape((1, C, 1, 1)) )\n",
        "    # scale and shift\n",
        "    out = gamma.reshape((1, C, 1, 1)) * X_hat + beta.reshape((1, C, 1, 1))\n",
        "\n",
        "    return out"
      ]
    },
    {
      "cell_type": "code",
      "source": [
        "# get some random training images\n",
        "dataiter = iter(train_dataloader)\n",
        "images, labels = next(dataiter)\n",
        "\n",
        "BN_layer = nn.BatchNorm2d(3)\n",
        "output_BN = BN_layer(images)"
      ],
      "metadata": {
        "id": "Xiiu6gbyXiV5"
      },
      "execution_count": 5,
      "outputs": []
    },
    {
      "cell_type": "code",
      "source": [
        "print(images)"
      ],
      "metadata": {
        "id": "CuOAqYKUzwfv",
        "outputId": "fc1acc5c-97ef-45ba-fc51-148343ab8eda",
        "colab": {
          "base_uri": "https://localhost:8080/"
        }
      },
      "execution_count": 6,
      "outputs": [
        {
          "output_type": "stream",
          "name": "stdout",
          "text": [
            "tensor([[[[-0.2471, -0.2627, -0.2314,  ..., -0.0980, -0.0196,  0.0118],\n",
            "          [-0.2314, -0.2706, -0.2941,  ...,  0.1922,  0.0980, -0.0431],\n",
            "          [-0.0196, -0.1529, -0.2000,  ...,  0.1686,  0.0667,  0.0431],\n",
            "          ...,\n",
            "          [-0.2392, -0.3569, -0.3490,  ..., -0.4196, -0.4667, -0.4980],\n",
            "          [-0.3647, -0.4118, -0.3647,  ..., -0.3333, -0.3020, -0.4196],\n",
            "          [-0.4510, -0.4510, -0.3961,  ..., -0.3255, -0.3333, -0.3569]],\n",
            "\n",
            "         [[-0.1529, -0.1686, -0.1451,  ..., -0.2784, -0.1451,  0.0118],\n",
            "          [-0.1843, -0.2157, -0.2471,  ..., -0.0745, -0.0980, -0.0824],\n",
            "          [-0.0980, -0.1608, -0.2314,  ...,  0.0039, -0.0588, -0.0745],\n",
            "          ...,\n",
            "          [-0.0275, -0.1294, -0.1529,  ..., -0.2471, -0.2471, -0.3020],\n",
            "          [-0.1451, -0.1608, -0.1373,  ..., -0.1373, -0.0824, -0.2706],\n",
            "          [-0.2157, -0.1922, -0.1765,  ..., -0.0980, -0.0745, -0.1529]],\n",
            "\n",
            "         [[-0.4667, -0.4745, -0.4510,  ..., -0.4667, -0.3412, -0.3098],\n",
            "          [-0.4902, -0.5451, -0.5373,  ..., -0.2627, -0.2941, -0.3882],\n",
            "          [-0.3647, -0.4902, -0.5059,  ..., -0.2471, -0.3412, -0.3647],\n",
            "          ...,\n",
            "          [-0.3647, -0.4667, -0.4745,  ..., -0.5922, -0.6941, -0.7098],\n",
            "          [-0.5137, -0.5216, -0.4902,  ..., -0.5686, -0.5137, -0.6314],\n",
            "          [-0.6314, -0.5608, -0.5294,  ..., -0.5451, -0.5137, -0.5373]]],\n",
            "\n",
            "\n",
            "        [[[-0.4431, -0.4118, -0.2627,  ...,  0.6157,  0.7098,  0.6784],\n",
            "          [-0.5922, -0.2941,  0.1765,  ...,  0.3882,  0.4431,  0.6078],\n",
            "          [-0.3255, -0.2235, -0.0353,  ...,  0.1216,  0.4510,  0.4667],\n",
            "          ...,\n",
            "          [-0.9294, -0.9294, -0.9294,  ...,  0.8118,  0.6549,  0.6314],\n",
            "          [-0.9216, -0.9294, -0.9294,  ...,  0.7647,  0.7255,  0.6000],\n",
            "          [-0.9059, -0.9137, -0.8902,  ...,  0.8118,  0.7569,  0.6000]],\n",
            "\n",
            "         [[-0.3020, -0.3020, -0.2157,  ...,  0.5529,  0.5686,  0.5216],\n",
            "          [-0.4510, -0.1765,  0.2471,  ...,  0.3882,  0.3882,  0.5059],\n",
            "          [-0.2392, -0.1529,  0.0275,  ...,  0.1686,  0.4510,  0.4431],\n",
            "          ...,\n",
            "          [-0.9294, -0.9216, -0.9294,  ...,  0.6627,  0.4902,  0.4667],\n",
            "          [-0.9137, -0.9216, -0.9373,  ...,  0.6235,  0.5608,  0.4588],\n",
            "          [-0.9059, -0.9137, -0.8902,  ...,  0.6627,  0.6000,  0.4667]],\n",
            "\n",
            "         [[-0.7647, -0.8118, -0.7412,  ..., -0.5922, -0.7490, -0.8196],\n",
            "          [-0.8824, -0.8510, -0.6157,  ..., -0.7020, -0.8353, -0.7647],\n",
            "          [-0.8196, -0.7961, -0.7569,  ..., -0.8118, -0.6392, -0.6863],\n",
            "          ...,\n",
            "          [-0.9137, -0.9608, -0.8902,  ...,  0.0039, -0.1686, -0.2471],\n",
            "          [-0.9608, -0.9608, -0.9059,  ..., -0.0510, -0.1529, -0.2941],\n",
            "          [-0.9373, -0.9059, -0.9137,  ...,  0.0510, -0.1294, -0.3647]]],\n",
            "\n",
            "\n",
            "        [[[-0.4824, -0.5059, -0.6000,  ..., -0.6392, -0.6314, -0.5059],\n",
            "          [-0.4431, -0.4196, -0.5216,  ..., -0.5765, -0.4196, -0.3725],\n",
            "          [-0.4588, -0.4745, -0.5294,  ..., -0.4275, -0.3490, -0.5137],\n",
            "          ...,\n",
            "          [-0.2000, -0.2471, -0.2157,  ...,  0.2549,  0.2471,  0.1686],\n",
            "          [-0.0745, -0.1451, -0.0667,  ...,  0.2706,  0.2863,  0.2078],\n",
            "          [ 0.0353, -0.0745,  0.0588,  ...,  0.2157,  0.2157,  0.2078]],\n",
            "\n",
            "         [[-0.4196, -0.4510, -0.5373,  ..., -0.6941, -0.6314, -0.4745],\n",
            "          [-0.3804, -0.3569, -0.4667,  ..., -0.5765, -0.3804, -0.3412],\n",
            "          [-0.3961, -0.4118, -0.4667,  ..., -0.4118, -0.3176, -0.4667],\n",
            "          ...,\n",
            "          [-0.1451, -0.2000, -0.1765,  ..., -0.1451, -0.2000, -0.3490],\n",
            "          [-0.0196, -0.1059, -0.0510,  ..., -0.1686, -0.1608, -0.2941],\n",
            "          [ 0.0824, -0.0510,  0.0902,  ..., -0.2235, -0.1765, -0.2627]],\n",
            "\n",
            "         [[-0.3882, -0.4196, -0.5137,  ..., -0.7412, -0.6314, -0.4588],\n",
            "          [-0.3490, -0.3255, -0.4353,  ..., -0.5765, -0.3490, -0.3176],\n",
            "          [-0.3804, -0.3882, -0.4353,  ..., -0.4039, -0.3020, -0.4431],\n",
            "          ...,\n",
            "          [-0.0588, -0.1137, -0.0902,  ..., -0.5216, -0.6078, -0.7098],\n",
            "          [ 0.0745, -0.0196,  0.0431,  ..., -0.5529, -0.5765, -0.6706],\n",
            "          [ 0.1843,  0.0588,  0.1686,  ..., -0.6000, -0.5294, -0.6392]]],\n",
            "\n",
            "\n",
            "        ...,\n",
            "\n",
            "\n",
            "        [[[ 0.2000,  0.3098,  0.3490,  ...,  0.0745, -0.0118,  0.0824],\n",
            "          [ 0.3176,  0.3020,  0.2078,  ...,  0.2392,  0.1137,  0.1529],\n",
            "          [ 0.3569,  0.2314,  0.2314,  ...,  0.2471,  0.2627,  0.2078],\n",
            "          ...,\n",
            "          [ 0.7569,  0.9922,  0.9294,  ...,  0.0039, -0.0510,  0.1059],\n",
            "          [ 0.8510,  0.8118,  0.8980,  ..., -0.2000, -0.2941, -0.1922],\n",
            "          [ 0.8667,  0.8667,  0.8431,  ...,  0.3020,  0.2784,  0.3255]],\n",
            "\n",
            "         [[-0.1529, -0.0353, -0.0039,  ...,  0.0118, -0.0353,  0.0588],\n",
            "          [-0.0588, -0.0353, -0.1059,  ...,  0.0902,  0.0039,  0.0431],\n",
            "          [-0.0745, -0.1608, -0.1373,  ...,  0.0510,  0.1216,  0.0588],\n",
            "          ...,\n",
            "          [ 0.6784,  0.9608,  0.9137,  ..., -0.1373, -0.1922, -0.0353],\n",
            "          [ 0.7725,  0.7961,  0.8902,  ..., -0.3490, -0.4353, -0.3333],\n",
            "          [ 0.8039,  0.8667,  0.8118,  ...,  0.1843,  0.1686,  0.2235]],\n",
            "\n",
            "         [[-0.5216, -0.4039, -0.3804,  ..., -0.5373, -0.6078, -0.5059],\n",
            "          [-0.4745, -0.4196, -0.4745,  ..., -0.3961, -0.4980, -0.4588],\n",
            "          [-0.5059, -0.5608, -0.5216,  ..., -0.3882, -0.3490, -0.4039],\n",
            "          ...,\n",
            "          [ 0.5686,  0.9137,  0.8588,  ..., -0.3098, -0.3490, -0.2000],\n",
            "          [ 0.6863,  0.7804,  0.8431,  ..., -0.5137, -0.5922, -0.4902],\n",
            "          [ 0.7255,  0.8275,  0.6863,  ...,  0.0510,  0.0431,  0.0902]]],\n",
            "\n",
            "\n",
            "        [[[ 0.5451,  0.5373,  0.5294,  ...,  0.5451,  0.4902,  0.4431],\n",
            "          [ 0.5137,  0.5373,  0.5608,  ...,  0.4275,  0.4118,  0.3882],\n",
            "          [ 0.4824,  0.4745,  0.4431,  ...,  0.3725,  0.3882,  0.4039],\n",
            "          ...,\n",
            "          [-0.4902, -0.4588, -0.4510,  ..., -0.4275, -0.4588, -0.4745],\n",
            "          [-0.4275, -0.4196, -0.4510,  ..., -0.4588, -0.4824, -0.4902],\n",
            "          [-0.4275, -0.4588, -0.4275,  ..., -0.5059, -0.5294, -0.5216]],\n",
            "\n",
            "         [[ 0.6627,  0.6706,  0.6784,  ...,  0.6784,  0.6549,  0.6314],\n",
            "          [ 0.6706,  0.6784,  0.6863,  ...,  0.6392,  0.6314,  0.6157],\n",
            "          [ 0.6471,  0.6627,  0.6706,  ...,  0.6078,  0.6000,  0.5922],\n",
            "          ...,\n",
            "          [-0.2549, -0.2314, -0.2314,  ..., -0.2706, -0.2863, -0.3020],\n",
            "          [-0.2157, -0.2157, -0.2078,  ..., -0.3098, -0.3098, -0.3098],\n",
            "          [-0.2157, -0.2471, -0.2157,  ..., -0.2784, -0.2941, -0.2863]],\n",
            "\n",
            "         [[ 0.5137,  0.5294,  0.5373,  ...,  0.5137,  0.5059,  0.5059],\n",
            "          [ 0.5216,  0.5373,  0.5373,  ...,  0.5216,  0.5216,  0.5216],\n",
            "          [ 0.5059,  0.5137,  0.5137,  ...,  0.4980,  0.4980,  0.4902],\n",
            "          ...,\n",
            "          [-0.6627, -0.6392, -0.6314,  ..., -0.6314, -0.6627, -0.6627],\n",
            "          [-0.6392, -0.6471, -0.6471,  ..., -0.6392, -0.6627, -0.6706],\n",
            "          [-0.6706, -0.6706, -0.6235,  ..., -0.6627, -0.6863, -0.6863]]],\n",
            "\n",
            "\n",
            "        [[[ 0.8824,  0.8824,  0.9059,  ...,  0.9059,  0.8980,  0.8745],\n",
            "          [ 0.8510,  0.8431,  0.8588,  ...,  0.8667,  0.8588,  0.8431],\n",
            "          [ 0.8510,  0.8431,  0.8588,  ...,  0.8510,  0.8510,  0.8431],\n",
            "          ...,\n",
            "          [ 0.0039, -0.1294, -0.2157,  ...,  0.1843,  0.2157,  0.1922],\n",
            "          [ 0.0039, -0.0824, -0.3020,  ...,  0.2314,  0.3020,  0.3098],\n",
            "          [ 0.1059,  0.0667, -0.0353,  ...,  0.2314,  0.2471,  0.2784]],\n",
            "\n",
            "         [[ 0.8745,  0.8745,  0.9059,  ...,  0.9059,  0.8902,  0.8667],\n",
            "          [ 0.8431,  0.8353,  0.8510,  ...,  0.8667,  0.8510,  0.8353],\n",
            "          [ 0.8431,  0.8353,  0.8510,  ...,  0.8431,  0.8353,  0.8353],\n",
            "          ...,\n",
            "          [ 0.0510, -0.0353, -0.0902,  ...,  0.2000,  0.2157,  0.1843],\n",
            "          [ 0.0667,  0.0039, -0.1843,  ...,  0.2235,  0.2863,  0.2941],\n",
            "          [ 0.1686,  0.1529,  0.0745,  ...,  0.2471,  0.2392,  0.2706]],\n",
            "\n",
            "         [[ 0.9216,  0.9216,  0.9294,  ...,  0.8980,  0.9216,  0.9216],\n",
            "          [ 0.9059,  0.8902,  0.8902,  ...,  0.8588,  0.8824,  0.8980],\n",
            "          [ 0.9137,  0.8980,  0.8980,  ...,  0.8745,  0.8980,  0.9216],\n",
            "          ...,\n",
            "          [ 0.1608,  0.0431, -0.0039,  ...,  0.2863,  0.2941,  0.2706],\n",
            "          [ 0.1373,  0.0510, -0.1294,  ...,  0.3333,  0.4039,  0.4118],\n",
            "          [ 0.2314,  0.1922,  0.1216,  ...,  0.3882,  0.3882,  0.4196]]]])\n"
          ]
        }
      ]
    },
    {
      "cell_type": "code",
      "source": [
        "print(output_BN)"
      ],
      "metadata": {
        "id": "U0iv6oB0zzGd",
        "outputId": "7101c6b4-9918-47c9-e62e-6f329b1baa5f",
        "colab": {
          "base_uri": "https://localhost:8080/"
        }
      },
      "execution_count": 7,
      "outputs": [
        {
          "output_type": "stream",
          "name": "stdout",
          "text": [
            "tensor([[[[-0.4161, -0.4495, -0.3826,  ..., -0.0980,  0.0694,  0.1363],\n",
            "          [-0.3826, -0.4663, -0.5165,  ...,  0.5213,  0.3204,  0.0191],\n",
            "          [ 0.0694, -0.2152, -0.3156,  ...,  0.4711,  0.2535,  0.2033],\n",
            "          ...,\n",
            "          [-0.3993, -0.6504, -0.6337,  ..., -0.7843, -0.8848, -0.9517],\n",
            "          [-0.6672, -0.7676, -0.6672,  ..., -0.6002, -0.5332, -0.7843],\n",
            "          [-0.8513, -0.8513, -0.7341,  ..., -0.5835, -0.6002, -0.6504]],\n",
            "\n",
            "         [[-0.2378, -0.2720, -0.2206,  ..., -0.5121, -0.2206,  0.1223],\n",
            "          [-0.3063, -0.3749, -0.4435,  ..., -0.0663, -0.1177, -0.0834],\n",
            "          [-0.1177, -0.2549, -0.4092,  ...,  0.1051, -0.0320, -0.0663],\n",
            "          ...,\n",
            "          [ 0.0366, -0.1863, -0.2378,  ..., -0.4435, -0.4435, -0.5635],\n",
            "          [-0.2206, -0.2549, -0.2035,  ..., -0.2035, -0.0834, -0.4949],\n",
            "          [-0.3749, -0.3235, -0.2892,  ..., -0.1177, -0.0663, -0.2378]],\n",
            "\n",
            "         [[-0.7304, -0.7463, -0.6988,  ..., -0.7304, -0.4774, -0.4142],\n",
            "          [-0.7779, -0.8886, -0.8728,  ..., -0.3193, -0.3826, -0.5723],\n",
            "          [-0.5249, -0.7779, -0.8095,  ..., -0.2877, -0.4774, -0.5249],\n",
            "          ...,\n",
            "          [-0.5249, -0.7304, -0.7463,  ..., -0.9835, -1.1890, -1.2207],\n",
            "          [-0.8253, -0.8411, -0.7779,  ..., -0.9360, -0.8253, -1.0625],\n",
            "          [-1.0625, -0.9202, -0.8570,  ..., -0.8886, -0.8253, -0.8728]]],\n",
            "\n",
            "\n",
            "        [[[-0.8345, -0.7676, -0.4495,  ...,  1.4252,  1.6261,  1.5591],\n",
            "          [-1.1526, -0.5165,  0.4878,  ...,  0.9398,  1.0570,  1.4085],\n",
            "          [-0.5835, -0.3659,  0.0359,  ...,  0.3707,  1.0737,  1.1072],\n",
            "          ...,\n",
            "          [-1.8724, -1.8724, -1.8724,  ...,  1.8437,  1.5089,  1.4587],\n",
            "          [-1.8556, -1.8724, -1.8724,  ...,  1.7432,  1.6596,  1.3917],\n",
            "          [-1.8221, -1.8389, -1.7887,  ...,  1.8437,  1.7265,  1.3917]],\n",
            "\n",
            "         [[-0.5635, -0.5635, -0.3749,  ...,  1.3053,  1.3396,  1.2367],\n",
            "          [-0.8893, -0.2892,  0.6366,  ...,  0.9452,  0.9452,  1.2024],\n",
            "          [-0.4263, -0.2378,  0.1566,  ...,  0.4652,  1.0824,  1.0653],\n",
            "          ...,\n",
            "          [-1.9351, -1.9179, -1.9351,  ...,  1.5453,  1.1681,  1.1167],\n",
            "          [-1.9008, -1.9179, -1.9522,  ...,  1.4596,  1.3224,  1.0995],\n",
            "          [-1.8837, -1.9008, -1.8494,  ...,  1.5453,  1.4081,  1.1167]],\n",
            "\n",
            "         [[-1.3314, -1.4262, -1.2839,  ..., -0.9835, -1.2997, -1.4420],\n",
            "          [-1.5685, -1.5053, -1.0309,  ..., -1.2048, -1.4737, -1.3314],\n",
            "          [-1.4420, -1.3946, -1.3155,  ..., -1.4262, -1.0783, -1.1732],\n",
            "          ...,\n",
            "          [-1.6318, -1.7267, -1.5844,  ...,  0.2183, -0.1295, -0.2877],\n",
            "          [-1.7267, -1.7267, -1.6160,  ...,  0.1077, -0.0979, -0.3826],\n",
            "          [-1.6792, -1.6160, -1.6318,  ...,  0.3132, -0.0505, -0.5249]]],\n",
            "\n",
            "\n",
            "        [[[-0.9182, -0.9685, -1.1693,  ..., -1.2530, -1.2363, -0.9685],\n",
            "          [-0.8345, -0.7843, -1.0019,  ..., -1.1191, -0.7843, -0.6839],\n",
            "          [-0.8680, -0.9015, -1.0187,  ..., -0.8011, -0.6337, -0.9852],\n",
            "          ...,\n",
            "          [-0.3156, -0.4161, -0.3491,  ...,  0.6552,  0.6385,  0.4711],\n",
            "          [-0.0478, -0.1985, -0.0311,  ...,  0.6887,  0.7222,  0.5548],\n",
            "          [ 0.1865, -0.0478,  0.2367,  ...,  0.5715,  0.5715,  0.5548]],\n",
            "\n",
            "         [[-0.8207, -0.8893, -1.0778,  ..., -1.4207, -1.2836, -0.9407],\n",
            "          [-0.7350, -0.6835, -0.9235,  ..., -1.1636, -0.7350, -0.6492],\n",
            "          [-0.7692, -0.8035, -0.9235,  ..., -0.8035, -0.5978, -0.9235],\n",
            "          ...,\n",
            "          [-0.2206, -0.3406, -0.2892,  ..., -0.2206, -0.3406, -0.6664],\n",
            "          [ 0.0537, -0.1349, -0.0149,  ..., -0.2720, -0.2549, -0.5464],\n",
            "          [ 0.2766, -0.0149,  0.2937,  ..., -0.3921, -0.2892, -0.4778]],\n",
            "\n",
            "         [[-0.5723, -0.6356, -0.8253,  ..., -1.2839, -1.0625, -0.7146],\n",
            "          [-0.4932, -0.4458, -0.6672,  ..., -0.9518, -0.4932, -0.4300],\n",
            "          [-0.5565, -0.5723, -0.6672,  ..., -0.6039, -0.3984, -0.6830],\n",
            "          ...,\n",
            "          [ 0.0918, -0.0189,  0.0286,  ..., -0.8411, -1.0151, -1.2207],\n",
            "          [ 0.3607,  0.1709,  0.2974,  ..., -0.9044, -0.9518, -1.1416],\n",
            "          [ 0.5821,  0.3290,  0.5504,  ..., -0.9993, -0.8570, -1.0783]]],\n",
            "\n",
            "\n",
            "        ...,\n",
            "\n",
            "\n",
            "        [[[ 0.5380,  0.7724,  0.8561,  ...,  0.2702,  0.0861,  0.2870],\n",
            "          [ 0.7891,  0.7557,  0.5548,  ...,  0.6217,  0.3539,  0.4376],\n",
            "          [ 0.8728,  0.6050,  0.6050,  ...,  0.6385,  0.6720,  0.5548],\n",
            "          ...,\n",
            "          [ 1.7265,  2.2287,  2.0948,  ...,  0.1196,  0.0024,  0.3372],\n",
            "          [ 1.9274,  1.8437,  2.0278,  ..., -0.3156, -0.5165, -0.2989],\n",
            "          [ 1.9609,  1.9609,  1.9106,  ...,  0.7557,  0.7054,  0.8059]],\n",
            "\n",
            "         [[-0.2378,  0.0194,  0.0880,  ...,  0.1223,  0.0194,  0.2252],\n",
            "          [-0.0320,  0.0194, -0.1349,  ...,  0.2937,  0.1051,  0.1909],\n",
            "          [-0.0663, -0.2549, -0.2035,  ...,  0.2080,  0.3623,  0.2252],\n",
            "          ...,\n",
            "          [ 1.5796,  2.1968,  2.0939,  ..., -0.2035, -0.3235,  0.0194],\n",
            "          [ 1.7853,  1.8368,  2.0425,  ..., -0.6664, -0.8550, -0.6321],\n",
            "          [ 1.8539,  1.9911,  1.8711,  ...,  0.4995,  0.4652,  0.5852]],\n",
            "\n",
            "         [[-0.8411, -0.6039, -0.5565,  ..., -0.8728, -1.0151, -0.8095],\n",
            "          [-0.7463, -0.6356, -0.7463,  ..., -0.5881, -0.7937, -0.7146],\n",
            "          [-0.8095, -0.9202, -0.8411,  ..., -0.5723, -0.4932, -0.6039],\n",
            "          ...,\n",
            "          [ 1.3569,  2.0527,  1.9420,  ..., -0.4142, -0.4932, -0.1928],\n",
            "          [ 1.5941,  1.7839,  1.9104,  ..., -0.8253, -0.9835, -0.7779],\n",
            "          [ 1.6732,  1.8787,  1.5941,  ...,  0.3132,  0.2974,  0.3923]]],\n",
            "\n",
            "\n",
            "        [[[ 1.2746,  1.2578,  1.2411,  ...,  1.2746,  1.1574,  1.0570],\n",
            "          [ 1.2076,  1.2578,  1.3080,  ...,  1.0235,  0.9900,  0.9398],\n",
            "          [ 1.1406,  1.1239,  1.0570,  ...,  0.9063,  0.9398,  0.9733],\n",
            "          ...,\n",
            "          [-0.9350, -0.8680, -0.8513,  ..., -0.8011, -0.8680, -0.9015],\n",
            "          [-0.8011, -0.7843, -0.8513,  ..., -0.8680, -0.9182, -0.9350],\n",
            "          [-0.8011, -0.8680, -0.8011,  ..., -0.9685, -1.0187, -1.0019]],\n",
            "\n",
            "         [[ 1.5453,  1.5625,  1.5796,  ...,  1.5796,  1.5282,  1.4767],\n",
            "          [ 1.5625,  1.5796,  1.5967,  ...,  1.4939,  1.4767,  1.4424],\n",
            "          [ 1.5110,  1.5453,  1.5625,  ...,  1.4253,  1.4081,  1.3910],\n",
            "          ...,\n",
            "          [-0.4606, -0.4092, -0.4092,  ..., -0.4949, -0.5292, -0.5635],\n",
            "          [-0.3749, -0.3749, -0.3578,  ..., -0.5806, -0.5806, -0.5806],\n",
            "          [-0.3749, -0.4435, -0.3749,  ..., -0.5121, -0.5464, -0.5292]],\n",
            "\n",
            "         [[ 1.2462,  1.2778,  1.2936,  ...,  1.2462,  1.2304,  1.2304],\n",
            "          [ 1.2620,  1.2936,  1.2936,  ...,  1.2620,  1.2620,  1.2620],\n",
            "          [ 1.2304,  1.2462,  1.2462,  ...,  1.2146,  1.2146,  1.1988],\n",
            "          ...,\n",
            "          [-1.1258, -1.0783, -1.0625,  ..., -1.0625, -1.1258, -1.1258],\n",
            "          [-1.0783, -1.0942, -1.0942,  ..., -1.0783, -1.1258, -1.1416],\n",
            "          [-1.1416, -1.1416, -1.0467,  ..., -1.1258, -1.1732, -1.1732]]],\n",
            "\n",
            "\n",
            "        [[[ 1.9943,  1.9943,  2.0445,  ...,  2.0445,  2.0278,  1.9776],\n",
            "          [ 1.9274,  1.9106,  1.9441,  ...,  1.9609,  1.9441,  1.9106],\n",
            "          [ 1.9274,  1.9106,  1.9441,  ...,  1.9274,  1.9274,  1.9106],\n",
            "          ...,\n",
            "          [ 0.1196, -0.1650, -0.3491,  ...,  0.5046,  0.5715,  0.5213],\n",
            "          [ 0.1196, -0.0646, -0.5332,  ...,  0.6050,  0.7557,  0.7724],\n",
            "          [ 0.3372,  0.2535,  0.0359,  ...,  0.6050,  0.6385,  0.7054]],\n",
            "\n",
            "         [[ 2.0082,  2.0082,  2.0768,  ...,  2.0768,  2.0425,  1.9911],\n",
            "          [ 1.9396,  1.9225,  1.9568,  ...,  1.9911,  1.9568,  1.9225],\n",
            "          [ 1.9396,  1.9225,  1.9568,  ...,  1.9396,  1.9225,  1.9225],\n",
            "          ...,\n",
            "          [ 0.2080,  0.0194, -0.1006,  ...,  0.5338,  0.5681,  0.4995],\n",
            "          [ 0.2423,  0.1051, -0.3063,  ...,  0.5852,  0.7224,  0.7395],\n",
            "          [ 0.4652,  0.4309,  0.2594,  ...,  0.6366,  0.6195,  0.6881]],\n",
            "\n",
            "         [[ 2.0685,  2.0685,  2.0843,  ...,  2.0211,  2.0685,  2.0685],\n",
            "          [ 2.0369,  2.0052,  2.0052,  ...,  1.9420,  1.9894,  2.0211],\n",
            "          [ 2.0527,  2.0211,  2.0211,  ...,  1.9736,  2.0211,  2.0685],\n",
            "          ...,\n",
            "          [ 0.5346,  0.2974,  0.2025,  ...,  0.7876,  0.8034,  0.7560],\n",
            "          [ 0.4872,  0.3132, -0.0505,  ...,  0.8825,  1.0248,  1.0406],\n",
            "          [ 0.6769,  0.5979,  0.4555,  ...,  0.9932,  0.9932,  1.0564]]]],\n",
            "       grad_fn=<NativeBatchNormBackward0>)\n"
          ]
        }
      ]
    },
    {
      "cell_type": "markdown",
      "metadata": {
        "id": "OKa3BdDeFO-F"
      },
      "source": [
        "### Dropout\n",
        "\n",
        "Another technique to train deep learning models is dropout.\n",
        "\n",
        "Conceptually, dropout approximates training a large number of neural networks with different architectures in parallel.\n",
        "\n",
        "> In practice, during training, some number of layer outputs are randomly ignored (dropped out) with probability $p$.\n",
        "\n",
        "Thus, the same layer will alter its connectivity and will search for alternative paths to convey the information in the next layer. As a result, each update to a layer during training is performed with a different “view” of the configured layer.\n",
        "\n",
        "“Dropping” values means temporarily removing them from the network for the current forward pass along with all its incoming and outgoing connections.\n",
        "\n",
        "Dropout has the effect of making the training process noisy. The choice of the probability $p$ depends on the architecture.\n",
        "\n",
        "![pic](https://raw.githubusercontent.com/CUTe-EmbeddedAI/images/main/images/fig27.PNG)\n",
        "This conceptualization suggests that perhaps dropout breaks-up situations where network layers co-adapt to correct mistakes from prior layers, in turn making the model more robust.\n",
        "\n",
        "The neural network will adapt in a way that prevents overfitting, which refers to poor generalization to unseen data.\n",
        "\n",
        "Dropout increases the sparsity of the network and in general encourages sparse representations!\n",
        "\n",
        "You can find an example in the code below .\n",
        "\n",
        "Notice that each value will be zeroed with a probability of p=0.5. Nonetheless, that doesn’t imply that the output will be 50% zeroed-out every time."
      ]
    },
    {
      "cell_type": "code",
      "execution_count": 8,
      "metadata": {
        "colab": {
          "base_uri": "https://localhost:8080/"
        },
        "id": "TkEyw3pDFO-I",
        "outputId": "c2cbf942-24b7-4162-ff47-8194d191379e"
      },
      "outputs": [
        {
          "output_type": "stream",
          "name": "stdout",
          "text": [
            "tensor([[0.7120, 0.7132, 0.0766, 0.9297, 0.1855, 0.9221, 0.3217, 0.5526]])\n",
            "tensor([[1.4239, 1.4263, 0.0000, 1.8595, 0.3709, 0.0000, 0.0000, 0.0000]])\n",
            "tensor([[1.4239, 1.4263, 0.1532, 0.0000, 0.0000, 0.0000, 0.6434, 0.0000]])\n"
          ]
        }
      ],
      "source": [
        "import torch\n",
        "import torch.nn as nn\n",
        "\n",
        "inp = torch.rand(1,8)\n",
        "dropout_layer = nn.Dropout(0.5)\n",
        "out1 = dropout_layer(inp)\n",
        "out2 = dropout_layer(inp)\n",
        "print(inp)\n",
        "print(out1)\n",
        "print(out2)"
      ]
    },
    {
      "cell_type": "markdown",
      "metadata": {
        "id": "G2vah6ZTFO-L"
      },
      "source": [
        "### Training with batchnorm\n",
        "\n",
        "Now, it's the time to apply batchnorm and dropout! Let's copy and paste the code for training a CNN in our previous notebook."
      ]
    },
    {
      "cell_type": "markdown",
      "metadata": {
        "id": "PhztnMavFO-X"
      },
      "source": [
        "Here, try to incorporate batchnorm as a layer in this vanilla CNN.\n",
        "\n",
        "Note that in pytorch, batchnorm can be implemented using `nn.BatchNorm2d(num_features)` for 2D input and `nn.BatchNorm2d(num_features)` for 1D input."
      ]
    },
    {
      "cell_type": "markdown",
      "metadata": {
        "id": "DLDK3OpMFO-k"
      },
      "source": [
        "### Training with dropout\n",
        "\n",
        "Adding dropout to your PyTorch models is very straightforward with the `torch.nn.Dropout` class, which takes in the dropout rate – the probability of a neuron being deactivated – as a parameter.\n",
        "\n",
        "Go back to the CNN class and try to incorporate dropout as an additional layer in the fully connected layer."
      ]
    },
    {
      "cell_type": "code",
      "execution_count": 9,
      "metadata": {
        "id": "aocAQZf_FO-Z"
      },
      "outputs": [],
      "source": [
        "#1. DEFINE THE CNN WITH BATCHNORM\n",
        "class CNN(nn.Module):\n",
        "    def __init__(self):\n",
        "        super(CNN, self).__init__()\n",
        "        self.conv1 = nn.Conv2d(3, 6, 5)\n",
        "        self.pool = nn.MaxPool2d(2, 2)\n",
        "        self.batchnorm1 = nn.BatchNorm2d(6) # defining our batchnorm1 layer\n",
        "        self.conv2 = nn.Conv2d(6, 16, 5)\n",
        "        self.batchnorm2 = nn.BatchNorm2d(16) # defining our batchnorm2 layer\n",
        "        self.fc1 = nn.Linear(16 * 5 * 5, 120)\n",
        "        self.fc2 = nn.Linear(120, 84)\n",
        "        self.fc3 = nn.Linear(84, 10)\n",
        "        self.relu = nn.ReLU()\n",
        "        self.dropout = nn.Dropout(0.5)\n",
        "\n",
        "    def forward(self, x):\n",
        "        x = self.pool(self.relu(self.conv1(x)))\n",
        "        # INCLUDE BATCHNORM IN THE FORWARD METHOD #\n",
        "        x = self.batchnorm1(x)\n",
        "        x = self.pool(self.relu(self.conv2(x)))\n",
        "        # INCLUDE BATCHNORM IN THE FORWARD METHOD #\n",
        "        x = self.batchnorm2(x)\n",
        "        x = x.view(-1, 16 * 5 * 5)\n",
        "        x = self.relu(self.fc1(x))\n",
        "        x = self.dropout(x)\n",
        "        x = self.relu(self.fc2(x))\n",
        "        x = self.fc3(x)\n",
        "        return x\n"
      ]
    },
    {
      "cell_type": "markdown",
      "source": [
        "### Adding the residual layer"
      ],
      "metadata": {
        "id": "G78lF-6o0T6m"
      }
    },
    {
      "cell_type": "code",
      "source": [
        "import torch\n",
        "import torch.nn as nn\n",
        "import torch.nn.functional as F\n",
        "\n",
        "class ResidualBlock(nn.Module):\n",
        "    def __init__(self, in_channels, out_channels, stride=1):\n",
        "        super(ResidualBlock, self).__init__()\n",
        "\n",
        "        # Convolutional layers with batch normalization and ReLU\n",
        "        self.conv1 = nn.Conv2d(in_channels, out_channels, kernel_size=3, stride=stride, padding=1)\n",
        "        self.bn1 = nn.BatchNorm2d(out_channels)\n",
        "        self.conv2 = nn.Conv2d(out_channels, out_channels, kernel_size=3, stride=1, padding=1)\n",
        "        self.bn2 = nn.BatchNorm2d(out_channels)\n",
        "\n",
        "        # Identity mapping (skip connection), 1x1 convolution to match dimensions if needed\n",
        "        self.identity = nn.Sequential()\n",
        "        if stride != 1 or in_channels != out_channels:\n",
        "            self.identity = nn.Conv2d(in_channels, out_channels, kernel_size=1, stride=stride, padding=0)\n",
        "\n",
        "    def forward(self, x):\n",
        "        out = F.relu(self.bn1(self.conv1(x)))  # First convolution + batch norm + ReLU\n",
        "        out = self.bn2(self.conv2(out))        # Second convolution + batch norm\n",
        "        out += self.identity(x)  # Skip connection (identity mapping or projection)\n",
        "        out = F.relu(out)  # ReLU activation after the addition\n",
        "        return out\n",
        "\n",
        "\n",
        "# CNN with Residual Block for 32x32 Input\n",
        "class ResidualCNN(nn.Module):\n",
        "    def __init__(self, num_classes=10):\n",
        "        super(ResidualCNN, self).__init__()\n",
        "\n",
        "        self.conv1 = nn.Conv2d(3, 6, kernel_size=5)  # Conv1: [B, 3, 32, 32] -> [B, 6, 28, 28]\n",
        "        self.pool = nn.MaxPool2d(2, 2)  # MaxPool: [B, 6, 28, 28] -> [B, 6, 14, 14]\n",
        "        self.res_block1 = ResidualBlock(6, 6)  # ResidualBlock1: [B, 6, 14, 14] -> [B, 6, 14, 14]\n",
        "        self.conv2 = nn.Conv2d(6, 16, kernel_size=5)  # Conv2: [B, 6, 14, 14] -> [B, 16, 10, 10]\n",
        "        self.res_block2 = ResidualBlock(16, 16)  # ResidualBlock2: [B, 16, 10, 10] -> [B, 16, 10, 10]\n",
        "\n",
        "        # Update the fully connected layer input size according to the new feature map size\n",
        "        self.fc1 = nn.Linear(16 * 5 * 5, 120)  # FC1: [B, 16 * 5 * 5] -> [B, 120]\n",
        "        self.fc2 = nn.Linear(120, 84)  # FC2: [B, 120] -> [B, 84]\n",
        "        self.fc3 = nn.Linear(84, num_classes)  # FC3: [B, 84] -> [B, num_classes]\n",
        "\n",
        "    def forward(self, x):\n",
        "        x = self.pool(F.relu(self.conv1(x)))  # Conv1 + Pool: [B, 1, 32, 32] -> [B, 6, 14, 14]\n",
        "        x = self.res_block1(x)  # ResidualBlock1: [B, 6, 14, 14] -> [B, 6, 14, 14]\n",
        "        x = self.pool(F.relu(self.conv2(x)))  # Conv2 + Pool: [B, 6, 14, 14] -> [B, 16, 5, 5]\n",
        "        x = self.res_block2(x)  # ResidualBlock2: [B, 16, 5, 5] -> [B, 16, 5, 5]\n",
        "        x = x.view(-1, 16 * 5 * 5)  # Flatten: [B, 16, 5, 5] -> [B, 16 * 5 * 5] = [B, 400]\n",
        "        x = F.relu(self.fc1(x))  # FC1: [B, 400] -> [B, 120]\n",
        "        x = F.relu(self.fc2(x))  # FC2: [B, 120] -> [B, 84]\n",
        "        x = self.fc3(x)  # FC3: [B, 84] -> [B, num_classes]\n",
        "        return x"
      ],
      "metadata": {
        "id": "Xpk8a3FUybnu"
      },
      "execution_count": 10,
      "outputs": []
    },
    {
      "cell_type": "code",
      "execution_count": 11,
      "metadata": {
        "colab": {
          "base_uri": "https://localhost:8080/"
        },
        "id": "vgWT1BGZFO-b",
        "outputId": "18fa41d1-7490-4685-d8f7-53e9995e2914"
      },
      "outputs": [
        {
          "output_type": "execute_result",
          "data": {
            "text/plain": [
              "ResidualCNN(\n",
              "  (conv1): Conv2d(3, 6, kernel_size=(5, 5), stride=(1, 1))\n",
              "  (pool): MaxPool2d(kernel_size=2, stride=2, padding=0, dilation=1, ceil_mode=False)\n",
              "  (res_block1): ResidualBlock(\n",
              "    (conv1): Conv2d(6, 6, kernel_size=(3, 3), stride=(1, 1), padding=(1, 1))\n",
              "    (bn1): BatchNorm2d(6, eps=1e-05, momentum=0.1, affine=True, track_running_stats=True)\n",
              "    (conv2): Conv2d(6, 6, kernel_size=(3, 3), stride=(1, 1), padding=(1, 1))\n",
              "    (bn2): BatchNorm2d(6, eps=1e-05, momentum=0.1, affine=True, track_running_stats=True)\n",
              "    (identity): Sequential()\n",
              "  )\n",
              "  (conv2): Conv2d(6, 16, kernel_size=(5, 5), stride=(1, 1))\n",
              "  (res_block2): ResidualBlock(\n",
              "    (conv1): Conv2d(16, 16, kernel_size=(3, 3), stride=(1, 1), padding=(1, 1))\n",
              "    (bn1): BatchNorm2d(16, eps=1e-05, momentum=0.1, affine=True, track_running_stats=True)\n",
              "    (conv2): Conv2d(16, 16, kernel_size=(3, 3), stride=(1, 1), padding=(1, 1))\n",
              "    (bn2): BatchNorm2d(16, eps=1e-05, momentum=0.1, affine=True, track_running_stats=True)\n",
              "    (identity): Sequential()\n",
              "  )\n",
              "  (fc1): Linear(in_features=400, out_features=120, bias=True)\n",
              "  (fc2): Linear(in_features=120, out_features=84, bias=True)\n",
              "  (fc3): Linear(in_features=84, out_features=10, bias=True)\n",
              ")"
            ]
          },
          "metadata": {},
          "execution_count": 11
        }
      ],
      "source": [
        "model = ResidualCNN() # need to instantiate the network to be used in instance method\n",
        "\n",
        "# LOSS AND OPTIMIZER\n",
        "loss_fn = nn.CrossEntropyLoss()\n",
        "optimizer = torch.optim.SGD(model.parameters(), lr=0.001, momentum=0.9)\n",
        "\n",
        "# move the model to GPU\n",
        "device = torch.device('cuda:0' if torch.cuda.is_available() else 'cpu')\n",
        "model.to(device)"
      ]
    },
    {
      "cell_type": "code",
      "execution_count": 12,
      "metadata": {
        "id": "iqUb-WREFO-e"
      },
      "outputs": [],
      "source": [
        "import time\n",
        "from tqdm.auto import tqdm\n",
        "\n",
        "# Train in one epoch function\n",
        "def train_one_epoch(model, train_loader, loss_fn, optimizer, device):\n",
        "    model.train()\n",
        "    train_loss, train_correct = 0, 0\n",
        "\n",
        "    for inputs, labels in train_loader:\n",
        "        inputs, labels = inputs.to(device), labels.to(device)\n",
        "\n",
        "        optimizer.zero_grad()\n",
        "        outputs = model(inputs)\n",
        "        loss = loss_fn(outputs, labels)\n",
        "        loss.backward()\n",
        "        optimizer.step()\n",
        "\n",
        "        train_loss += loss.item() * inputs.size(0)\n",
        "        _, predictions = torch.max(outputs, 1)\n",
        "        train_correct += torch.sum(predictions == labels.data)\n",
        "\n",
        "    return train_loss / len(train_loader.dataset), train_correct.double() / len(train_loader.dataset)\n",
        "\n",
        "# Validation function\n",
        "def validate(model, val_loader, loss_fn, device):\n",
        "    model.eval()\n",
        "    val_loss, val_correct = 0, 0\n",
        "\n",
        "    with torch.no_grad():\n",
        "        for inputs, labels in val_loader:\n",
        "            inputs, labels = inputs.to(device), labels.to(device)\n",
        "            outputs = model(inputs)\n",
        "            loss = loss_fn(outputs, labels)\n",
        "\n",
        "            val_loss += loss.item() * inputs.size(0)\n",
        "            _, predictions = torch.max(outputs, 1)\n",
        "            val_correct += torch.sum(predictions == labels.data)\n",
        "\n",
        "    return val_loss / len(val_loader.dataset), val_correct.double() / len(val_loader.dataset)\n",
        "\n",
        "# Training and validation loop with timing\n",
        "def train_and_validate(model, train_loader, val_loader, loss_fn, optimizer, epochs, device='cuda'):\n",
        "    model.to(device)\n",
        "    history = {\n",
        "        'train_loss': [],\n",
        "        'train_accuracy': [],\n",
        "        'val_loss': [],\n",
        "        'val_accuracy': []\n",
        "    }\n",
        "\n",
        "    for epoch in tqdm(range(epochs), desc=\"Training Progress\", leave=True):\n",
        "        epoch_start_time = time.time()\n",
        "\n",
        "        train_loss, train_accuracy = train_one_epoch(model, train_loader, loss_fn, optimizer, device)\n",
        "        val_loss, val_accuracy = validate(model, val_loader, loss_fn, device)\n",
        "\n",
        "        history['train_loss'].append(train_loss)\n",
        "        history['train_accuracy'].append(train_accuracy.item())\n",
        "        history['val_loss'].append(val_loss)\n",
        "        history['val_accuracy'].append(val_accuracy.item())\n",
        "\n",
        "        epoch_end_time = time.time()\n",
        "\n",
        "        # Use tqdm.write() instead of print() to avoid extra blank lines\n",
        "        tqdm.write(f'Epoch {epoch+1}/{epochs}: Train loss: {train_loss:.4f}, Train accuracy: {train_accuracy:.4f}, '\n",
        "                   f'Val loss: {val_loss:.4f}, Val accuracy: {val_accuracy:.4f}, '\n",
        "                   f'Time: {(epoch_end_time - epoch_start_time):.2f}s')\n",
        "\n",
        "    return model, history"
      ]
    },
    {
      "cell_type": "code",
      "execution_count": 13,
      "metadata": {
        "colab": {
          "base_uri": "https://localhost:8080/",
          "height": 223,
          "referenced_widgets": [
            "2ed169d757a64333b2d0a5578360d14d",
            "d1d9f50c5f724ebc96daa3d7d8ae951e",
            "c37031b8fa24404ea2282831a00544e1",
            "2382d1f71ddf47289f8afed7b5d67754",
            "26a12f1a5e7949eeadc1915331ced774",
            "e66f3a33bdae4fc5905c7f469450d2b5",
            "bb8e88f772944590a1a9e0cfc48d0bbe",
            "9312a5e6311140c2ab4a9336b27d1ad8",
            "e243e899b37044679167b57032171cd9",
            "107a58ff1b7349ac969a39336c73682b",
            "b5f92ec847834dfc84ae836ae2cbb61f"
          ]
        },
        "id": "ngaHvvWZFO-i",
        "outputId": "2f9be445-ad0b-464b-e1f4-7e320352a3af"
      },
      "outputs": [
        {
          "output_type": "display_data",
          "data": {
            "text/plain": [
              "Training Progress:   0%|          | 0/10 [00:00<?, ?it/s]"
            ],
            "application/vnd.jupyter.widget-view+json": {
              "version_major": 2,
              "version_minor": 0,
              "model_id": "2ed169d757a64333b2d0a5578360d14d"
            }
          },
          "metadata": {}
        },
        {
          "output_type": "stream",
          "name": "stdout",
          "text": [
            "Epoch 1/10: Train loss: 1.6905, Train accuracy: 0.3688, Val loss: 1.4966, Val accuracy: 0.4633, Time: 31.25s\n",
            "Epoch 2/10: Train loss: 1.3673, Train accuracy: 0.5026, Val loss: 1.2642, Val accuracy: 0.5417, Time: 28.27s\n",
            "Epoch 3/10: Train loss: 1.2371, Train accuracy: 0.5531, Val loss: 1.1960, Val accuracy: 0.5653, Time: 28.15s\n",
            "Epoch 4/10: Train loss: 1.1594, Train accuracy: 0.5831, Val loss: 1.1182, Val accuracy: 0.6024, Time: 28.75s\n",
            "Epoch 5/10: Train loss: 1.0964, Train accuracy: 0.6046, Val loss: 1.1077, Val accuracy: 0.6033, Time: 28.21s\n",
            "Epoch 6/10: Train loss: 1.0422, Train accuracy: 0.6244, Val loss: 1.0462, Val accuracy: 0.6269, Time: 28.53s\n",
            "Epoch 7/10: Train loss: 0.9966, Train accuracy: 0.6425, Val loss: 1.0190, Val accuracy: 0.6370, Time: 28.47s\n",
            "Epoch 8/10: Train loss: 0.9594, Train accuracy: 0.6565, Val loss: 1.0212, Val accuracy: 0.6339, Time: 27.76s\n",
            "Epoch 9/10: Train loss: 0.9235, Train accuracy: 0.6697, Val loss: 1.0172, Val accuracy: 0.6408, Time: 27.80s\n",
            "Epoch 10/10: Train loss: 0.8893, Train accuracy: 0.6822, Val loss: 0.9756, Val accuracy: 0.6547, Time: 27.80s\n"
          ]
        }
      ],
      "source": [
        "num_epochs =10\n",
        "trained_model, history = train_and_validate(model, train_dataloader, test_dataloader, loss_fn, optimizer, num_epochs)"
      ]
    },
    {
      "cell_type": "code",
      "source": [
        "# Extracting data for plotting\n",
        "train_losses = history['train_loss']\n",
        "train_accuracies = history['train_accuracy']\n",
        "val_losses = history['val_loss']\n",
        "val_accuracies = history['val_accuracy']\n",
        "epochs = range(1, len(train_losses) + 1)\n",
        "\n",
        "# Plotting\n",
        "plt.figure(figsize=(12, 5))\n",
        "\n",
        "# Loss Plot\n",
        "plt.subplot(1, 2, 1)\n",
        "plt.plot(epochs, train_losses, label='Training Loss')\n",
        "plt.plot(epochs, val_losses, label='Validation Loss')\n",
        "plt.title('Training and Validation Loss')\n",
        "plt.ylim(0, 3)\n",
        "plt.xlabel('Epoch')\n",
        "plt.ylabel('Loss')\n",
        "plt.legend()\n",
        "\n",
        "# Accuracy Plot\n",
        "plt.subplot(1, 2, 2)\n",
        "plt.plot(epochs, train_accuracies, label='Training Accuracy')\n",
        "plt.plot(epochs, val_accuracies, label='Validation Accuracy')\n",
        "plt.title('Training and Validation Accuracy')\n",
        "plt.ylim(0, 1)\n",
        "plt.xlabel('Epoch')\n",
        "plt.ylabel('Accuracy')\n",
        "plt.legend()\n",
        "\n",
        "plt.tight_layout()\n",
        "plt.show()"
      ],
      "metadata": {
        "id": "wN477QQ4e6h-",
        "outputId": "249111b5-a39a-4ad2-8bd9-fe7a18f84a2f",
        "colab": {
          "base_uri": "https://localhost:8080/",
          "height": 507
        }
      },
      "execution_count": 14,
      "outputs": [
        {
          "output_type": "display_data",
          "data": {
            "text/plain": [
              "<Figure size 1200x500 with 2 Axes>"
            ],
            "image/png": "[encoded data removed]"
          },
          "metadata": {}
        }
      ]
    },
    {
      "cell_type": "code",
      "execution_count": null,
      "metadata": {
        "id": "ksfu_3QoFO-m"
      },
      "outputs": [],
      "source": []
    }
  ],
  "metadata": {
    "kernelspec": {
      "display_name": "Python 3.7 (pytorch_hasan)",
      "language": "python",
      "name": "torch"
    },
    "language_info": {
      "codemirror_mode": {
        "name": "ipython",
        "version": 3
      },
      "file_extension": ".py",
      "mimetype": "text/x-python",
      "name": "python",
      "nbconvert_exporter": "python",
      "pygments_lexer": "ipython3",
      "version": "3.7.9"
    },
    "colab": {
      "provenance": [],
      "gpuType": "T4",
      "include_colab_link": true
    },
    "widgets": {
      "application/vnd.jupyter.widget-state+json": {
        "2ed169d757a64333b2d0a5578360d14d": {
          "model_module": "@jupyter-widgets/controls",
          "model_name": "HBoxModel",
          "model_module_version": "1.5.0",
          "state": {
            "_dom_classes": [],
            "_model_module": "@jupyter-widgets/controls",
            "_model_module_version": "1.5.0",
            "_model_name": "HBoxModel",
            "_view_count": null,
            "_view_module": "@jupyter-widgets/controls",
            "_view_module_version": "1.5.0",
            "_view_name": "HBoxView",
            "box_style": "",
            "children": [
              "IPY_MODEL_d1d9f50c5f724ebc96daa3d7d8ae951e",
              "IPY_MODEL_c37031b8fa24404ea2282831a00544e1",
              "IPY_MODEL_2382d1f71ddf47289f8afed7b5d67754"
            ],
            "layout": "IPY_MODEL_26a12f1a5e7949eeadc1915331ced774"
          }
        },
        "d1d9f50c5f724ebc96daa3d7d8ae951e": {
          "model_module": "@jupyter-widgets/controls",
          "model_name": "HTMLModel",
          "model_module_version": "1.5.0",
          "state": {
            "_dom_classes": [],
            "_model_module": "@jupyter-widgets/controls",
            "_model_module_version": "1.5.0",
            "_model_name": "HTMLModel",
            "_view_count": null,
            "_view_module": "@jupyter-widgets/controls",
            "_view_module_version": "1.5.0",
            "_view_name": "HTMLView",
            "description": "",
            "description_tooltip": null,
            "layout": "IPY_MODEL_e66f3a33bdae4fc5905c7f469450d2b5",
            "placeholder": "​",
            "style": "IPY_MODEL_bb8e88f772944590a1a9e0cfc48d0bbe",
            "value": "Training Progress: 100%"
          }
        },
        "c37031b8fa24404ea2282831a00544e1": {
          "model_module": "@jupyter-widgets/controls",
          "model_name": "FloatProgressModel",
          "model_module_version": "1.5.0",
          "state": {
            "_dom_classes": [],
            "_model_module": "@jupyter-widgets/controls",
            "_model_module_version": "1.5.0",
            "_model_name": "FloatProgressModel",
            "_view_count": null,
            "_view_module": "@jupyter-widgets/controls",
            "_view_module_version": "1.5.0",
            "_view_name": "ProgressView",
            "bar_style": "success",
            "description": "",
            "description_tooltip": null,
            "layout": "IPY_MODEL_9312a5e6311140c2ab4a9336b27d1ad8",
            "max": 10,
            "min": 0,
            "orientation": "horizontal",
            "style": "IPY_MODEL_e243e899b37044679167b57032171cd9",
            "value": 10
          }
        },
        "2382d1f71ddf47289f8afed7b5d67754": {
          "model_module": "@jupyter-widgets/controls",
          "model_name": "HTMLModel",
          "model_module_version": "1.5.0",
          "state": {
            "_dom_classes": [],
            "_model_module": "@jupyter-widgets/controls",
            "_model_module_version": "1.5.0",
            "_model_name": "HTMLModel",
            "_view_count": null,
            "_view_module": "@jupyter-widgets/controls",
            "_view_module_version": "1.5.0",
            "_view_name": "HTMLView",
            "description": "",
            "description_tooltip": null,
            "layout": "IPY_MODEL_107a58ff1b7349ac969a39336c73682b",
            "placeholder": "​",
            "style": "IPY_MODEL_b5f92ec847834dfc84ae836ae2cbb61f",
            "value": " 10/10 [04:45&lt;00:00, 28.04s/it]"
          }
        },
        "26a12f1a5e7949eeadc1915331ced774": {
          "model_module": "@jupyter-widgets/base",
          "model_name": "LayoutModel",
          "model_module_version": "1.2.0",
          "state": {
            "_model_module": "@jupyter-widgets/base",
            "_model_module_version": "1.2.0",
            "_model_name": "LayoutModel",
            "_view_count": null,
            "_view_module": "@jupyter-widgets/base",
            "_view_module_version": "1.2.0",
            "_view_name": "LayoutView",
            "align_content": null,
            "align_items": null,
            "align_self": null,
            "border": null,
            "bottom": null,
            "display": null,
            "flex": null,
            "flex_flow": null,
            "grid_area": null,
            "grid_auto_columns": null,
            "grid_auto_flow": null,
            "grid_auto_rows": null,
            "grid_column": null,
            "grid_gap": null,
            "grid_row": null,
            "grid_template_areas": null,
            "grid_template_columns": null,
            "grid_template_rows": null,
            "height": null,
            "justify_content": null,
            "justify_items": null,
            "left": null,
            "margin": null,
            "max_height": null,
            "max_width": null,
            "min_height": null,
            "min_width": null,
            "object_fit": null,
            "object_position": null,
            "order": null,
            "overflow": null,
            "overflow_x": null,
            "overflow_y": null,
            "padding": null,
            "right": null,
            "top": null,
            "visibility": null,
            "width": null
          }
        },
        "e66f3a33bdae4fc5905c7f469450d2b5": {
          "model_module": "@jupyter-widgets/base",
          "model_name": "LayoutModel",
          "model_module_version": "1.2.0",
          "state": {
            "_model_module": "@jupyter-widgets/base",
            "_model_module_version": "1.2.0",
            "_model_name": "LayoutModel",
            "_view_count": null,
            "_view_module": "@jupyter-widgets/base",
            "_view_module_version": "1.2.0",
            "_view_name": "LayoutView",
            "align_content": null,
            "align_items": null,
            "align_self": null,
            "border": null,
            "bottom": null,
            "display": null,
            "flex": null,
            "flex_flow": null,
            "grid_area": null,
            "grid_auto_columns": null,
            "grid_auto_flow": null,
            "grid_auto_rows": null,
            "grid_column": null,
            "grid_gap": null,
            "grid_row": null,
            "grid_template_areas": null,
            "grid_template_columns": null,
            "grid_template_rows": null,
            "height": null,
            "justify_content": null,
            "justify_items": null,
            "left": null,
            "margin": null,
            "max_height": null,
            "max_width": null,
            "min_height": null,
            "min_width": null,
            "object_fit": null,
            "object_position": null,
            "order": null,
            "overflow": null,
            "overflow_x": null,
            "overflow_y": null,
            "padding": null,
            "right": null,
            "top": null,
            "visibility": null,
            "width": null
          }
        },
        "bb8e88f772944590a1a9e0cfc48d0bbe": {
          "model_module": "@jupyter-widgets/controls",
          "model_name": "DescriptionStyleModel",
          "model_module_version": "1.5.0",
          "state": {
            "_model_module": "@jupyter-widgets/controls",
            "_model_module_version": "1.5.0",
            "_model_name": "DescriptionStyleModel",
            "_view_count": null,
            "_view_module": "@jupyter-widgets/base",
            "_view_module_version": "1.2.0",
            "_view_name": "StyleView",
            "description_width": ""
          }
        },
        "9312a5e6311140c2ab4a9336b27d1ad8": {
          "model_module": "@jupyter-widgets/base",
          "model_name": "LayoutModel",
          "model_module_version": "1.2.0",
          "state": {
            "_model_module": "@jupyter-widgets/base",
            "_model_module_version": "1.2.0",
            "_model_name": "LayoutModel",
            "_view_count": null,
            "_view_module": "@jupyter-widgets/base",
            "_view_module_version": "1.2.0",
            "_view_name": "LayoutView",
            "align_content": null,
            "align_items": null,
            "align_self": null,
            "border": null,
            "bottom": null,
            "display": null,
            "flex": null,
            "flex_flow": null,
            "grid_area": null,
            "grid_auto_columns": null,
            "grid_auto_flow": null,
            "grid_auto_rows": null,
            "grid_column": null,
            "grid_gap": null,
            "grid_row": null,
            "grid_template_areas": null,
            "grid_template_columns": null,
            "grid_template_rows": null,
            "height": null,
            "justify_content": null,
            "justify_items": null,
            "left": null,
            "margin": null,
            "max_height": null,
            "max_width": null,
            "min_height": null,
            "min_width": null,
            "object_fit": null,
            "object_position": null,
            "order": null,
            "overflow": null,
            "overflow_x": null,
            "overflow_y": null,
            "padding": null,
            "right": null,
            "top": null,
            "visibility": null,
            "width": null
          }
        },
        "e243e899b37044679167b57032171cd9": {
          "model_module": "@jupyter-widgets/controls",
          "model_name": "ProgressStyleModel",
          "model_module_version": "1.5.0",
          "state": {
            "_model_module": "@jupyter-widgets/controls",
            "_model_module_version": "1.5.0",
            "_model_name": "ProgressStyleModel",
            "_view_count": null,
            "_view_module": "@jupyter-widgets/base",
            "_view_module_version": "1.2.0",
            "_view_name": "StyleView",
            "bar_color": null,
            "description_width": ""
          }
        },
        "107a58ff1b7349ac969a39336c73682b": {
          "model_module": "@jupyter-widgets/base",
          "model_name": "LayoutModel",
          "model_module_version": "1.2.0",
          "state": {
            "_model_module": "@jupyter-widgets/base",
            "_model_module_version": "1.2.0",
            "_model_name": "LayoutModel",
            "_view_count": null,
            "_view_module": "@jupyter-widgets/base",
            "_view_module_version": "1.2.0",
            "_view_name": "LayoutView",
            "align_content": null,
            "align_items": null,
            "align_self": null,
            "border": null,
            "bottom": null,
            "display": null,
            "flex": null,
            "flex_flow": null,
            "grid_area": null,
            "grid_auto_columns": null,
            "grid_auto_flow": null,
            "grid_auto_rows": null,
            "grid_column": null,
            "grid_gap": null,
            "grid_row": null,
            "grid_template_areas": null,
            "grid_template_columns": null,
            "grid_template_rows": null,
            "height": null,
            "justify_content": null,
            "justify_items": null,
            "left": null,
            "margin": null,
            "max_height": null,
            "max_width": null,
            "min_height": null,
            "min_width": null,
            "object_fit": null,
            "object_position": null,
            "order": null,
            "overflow": null,
            "overflow_x": null,
            "overflow_y": null,
            "padding": null,
            "right": null,
            "top": null,
            "visibility": null,
            "width": null
          }
        },
        "b5f92ec847834dfc84ae836ae2cbb61f": {
          "model_module": "@jupyter-widgets/controls",
          "model_name": "DescriptionStyleModel",
          "model_module_version": "1.5.0",
          "state": {
            "_model_module": "@jupyter-widgets/controls",
            "_model_module_version": "1.5.0",
            "_model_name": "DescriptionStyleModel",
            "_view_count": null,
            "_view_module": "@jupyter-widgets/base",
            "_view_module_version": "1.2.0",
            "_view_name": "StyleView",
            "description_width": ""
          }
        }
      }
    },
    "accelerator": "GPU"
  },
  "nbformat": 4,
  "nbformat_minor": 0
}