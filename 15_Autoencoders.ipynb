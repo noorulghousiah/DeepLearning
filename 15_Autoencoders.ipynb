{
  "nbformat": 4,
  "nbformat_minor": 0,
  "metadata": {
    "colab": {
      "provenance": [],
      "gpuType": "T4",
      "include_colab_link": true
    },
    "kernelspec": {
      "name": "python3",
      "display_name": "Python 3"
    },
    "language_info": {
      "name": "python"
    },
    "accelerator": "GPU"
  },
  "cells": [
    {
      "cell_type": "markdown",
      "metadata": {
        "id": "view-in-github",
        "colab_type": "text"
      },
      "source": [
        "<a href=\"https://colab.research.google.com/github/noorulghousiah/DeepLearning/blob/main/15_Autoencoders.ipynb\" target=\"_parent\"><img src=\"https://colab.research.google.com/assets/colab-badge.svg\" alt=\"Open In Colab\"/></a>"
      ]
    },
    {
      "cell_type": "markdown",
      "source": [
        "# **Autoencoders in Computer Vision - Jupyter Notebook Tutorial**\n",
        "\n",
        "# Section 1: Introduction to Autoencoders\n",
        "\n",
        "\n",
        "NOTES:\n",
        "Autoencoders are neural networks designed to learn compressed representations of data.\n",
        "They work by encoding the input into a latent space and then decoding it back to reconstruct the input.\n",
        "\n",
        "This is useful in scenarios where labeled data is scarce but we still want to learn meaningful features.\n",
        "The learned features (latent vectors) are useful for:\n",
        "- Image compression\n",
        "- Noise reduction (denoising autoencoders)\n",
        "- Anomaly detection (reconstruction error)\n",
        "- Pretraining for classification or generative models\n",
        "- Transfer learning\n"
      ],
      "metadata": {
        "id": "xe_J1YFCOBcF"
      }
    },
    {
      "cell_type": "markdown",
      "source": [
        "# Section 2: Setup and Imports"
      ],
      "metadata": {
        "id": "vxOVlI62OR1O"
      }
    },
    {
      "cell_type": "code",
      "source": [
        "import torch\n",
        "import torch.nn as nn\n",
        "import torch.optim as optim\n",
        "from torchvision import datasets, transforms\n",
        "from torch.utils.data import DataLoader, random_split\n",
        "import matplotlib.pyplot as plt\n",
        "import numpy as np\n",
        "\n",
        "# Check device\n",
        "device = torch.device(\"cuda\" if torch.cuda.is_available() else \"cpu\")\n",
        "print(\"Using device:\", device)"
      ],
      "metadata": {
        "colab": {
          "base_uri": "https://localhost:8080/"
        },
        "id": "9Byyw-rPODNu",
        "outputId": "f1e58ab9-fa01-4769-9df9-ccbbc8612991"
      },
      "execution_count": 1,
      "outputs": [
        {
          "output_type": "stream",
          "name": "stdout",
          "text": [
            "Using device: cuda\n"
          ]
        }
      ]
    },
    {
      "cell_type": "markdown",
      "source": [
        "# Section 3: Load Dataset (MNIST)"
      ],
      "metadata": {
        "id": "lfOGsj1SOal6"
      }
    },
    {
      "cell_type": "code",
      "source": [
        "transform = transforms.Compose([\n",
        "    transforms.ToTensor(),\n",
        "])\n",
        "\n",
        "dataset = datasets.FashionMNIST(root='./data', train=True, download=True, transform=transform)\n",
        "train_data, val_data = random_split(dataset, [50000, 10000])\n",
        "train_loader = DataLoader(train_data, batch_size=64, shuffle=True)\n",
        "val_loader = DataLoader(val_data, batch_size=64, shuffle=False)"
      ],
      "metadata": {
        "colab": {
          "base_uri": "https://localhost:8080/"
        },
        "id": "gUtE8gEIObH6",
        "outputId": "d8659dd4-bba4-4eec-e3c5-981bbd10679c"
      },
      "execution_count": 12,
      "outputs": [
        {
          "output_type": "stream",
          "name": "stderr",
          "text": [
            "100%|██████████| 26.4M/26.4M [00:00<00:00, 114MB/s]\n",
            "100%|██████████| 29.5k/29.5k [00:00<00:00, 3.98MB/s]\n",
            "100%|██████████| 4.42M/4.42M [00:00<00:00, 60.4MB/s]\n",
            "100%|██████████| 5.15k/5.15k [00:00<00:00, 8.01MB/s]\n"
          ]
        }
      ]
    },
    {
      "cell_type": "markdown",
      "source": [
        "# Section 4: Define Basic Autoencoder"
      ],
      "metadata": {
        "id": "KkXc0neROfwC"
      }
    },
    {
      "cell_type": "code",
      "source": [
        "import torch.nn as nn\n",
        "\n",
        "class Autoencoder(nn.Module):\n",
        "    def __init__(self):\n",
        "        super(Autoencoder, self).__init__()\n",
        "\n",
        "        # Encoder\n",
        "        self.encoder = nn.Sequential(\n",
        "            nn.Conv2d(1, 16, 3, stride=2, padding=1),  # -> [16, 14, 14]\n",
        "            nn.ReLU(True),\n",
        "            nn.Conv2d(16, 32, 3, stride=2, padding=1), # -> [32, 7, 7]\n",
        "            nn.ReLU(True)\n",
        "        )\n",
        "\n",
        "        # Decoder\n",
        "        self.decoder = nn.Sequential(\n",
        "            nn.ConvTranspose2d(32, 16, 3, stride=2, padding=1, output_padding=1), # -> [16, 14, 14]\n",
        "            nn.ReLU(True),\n",
        "            nn.ConvTranspose2d(16, 1, 3, stride=2, padding=1, output_padding=1),  # -> [1, 28, 28]\n",
        "            nn.Sigmoid()  # To keep output pixel values in [0, 1]\n",
        "        )\n",
        "\n",
        "    def forward(self, x):\n",
        "        z = self.encoder(x)\n",
        "        out = self.decoder(z)\n",
        "        return out\n",
        "\n",
        "\n",
        "\n",
        "model = Autoencoder().to(device)\n",
        "criterion = nn.MSELoss()\n",
        "optimizer = optim.Adam(model.parameters(), lr=0.001)"
      ],
      "metadata": {
        "id": "00sJr2GD0gfk"
      },
      "execution_count": 13,
      "outputs": []
    },
    {
      "cell_type": "code",
      "source": [
        "class Autoencoder(nn.Module):\n",
        "    def __init__(self):\n",
        "        super(Autoencoder, self).__init__()\n",
        "        self.encoder = nn.Sequential(\n",
        "            nn.Flatten(),\n",
        "            nn.Linear(28*28, 128),\n",
        "            nn.ReLU(),\n",
        "            nn.Linear(128, 64)\n",
        "        )\n",
        "        self.decoder = nn.Sequential(\n",
        "            nn.Linear(64, 128),\n",
        "            nn.ReLU(),\n",
        "            nn.Linear(128, 28*28),\n",
        "            nn.Sigmoid(),\n",
        "            nn.Unflatten(1, (1, 28, 28))\n",
        "        )\n",
        "\n",
        "    def forward(self, x):\n",
        "        z = self.encoder(x)\n",
        "        out = self.decoder(z)\n",
        "        return out\n",
        "\n",
        "model = Autoencoder().to(device)\n",
        "criterion = nn.MSELoss()\n",
        "optimizer = optim.Adam(model.parameters(), lr=0.001)"
      ],
      "metadata": {
        "id": "BioFXa3E1Z6o"
      },
      "execution_count": null,
      "outputs": []
    },
    {
      "cell_type": "code",
      "source": [
        "class Autoencoder(nn.Module):\n",
        "    def __init__(self):\n",
        "        super(Autoencoder, self).__init__()\n",
        "        self.encoder = nn.Sequential(\n",
        "            nn.Conv2d(3, 6, 5),\n",
        "            nn.ReLU(),\n",
        "            nn.MaxPool2d(2, 2),\n",
        "            nn.Conv2d(6, 16, 5),\n",
        "            nn.ReLU(),\n",
        "            nn.MaxPool2d(2, 2),\n",
        "            nn.Flatten(),\n",
        "            nn.Linear(16 * 4 * 4, 64),\n",
        "            nn.ReLU()\n",
        "        )\n",
        "        self.decoder = nn.Sequential(\n",
        "\n",
        "            nn.Linear(16 * 4 * 4, 64),\n",
        "            nn.MaxPool2d(2, 2),\n",
        "            nn.ReLU(),\n",
        "            nn.Conv2d(6, 16, 5),\n",
        "            nn.MaxPool2d(2, 2),\n",
        "            nn.ReLU(),\n",
        "            nn.Conv2d(3, 6, 5),\n",
        "            nn.Sigmoid(),\n",
        "        )\n",
        "\n",
        "    def forward(self, x):\n",
        "        z = self.encoder(x)\n",
        "        out = self.decoder(z)\n",
        "        return out\n",
        "\n",
        "\n",
        "        self.conv1 = nn.Conv2d(3, 6, 5)\n",
        "        self.pool = nn.MaxPool2d(2, 2)\n",
        "        self.conv2 = nn.Conv2d(6, 16, 5)\n",
        "        self.fc1 = nn.Linear(16 * 5 * 5, 120)\n",
        "        self.fc2 = nn.Linear(120, 84)\n",
        "        self.fc3 = nn.Linear(84, 10)\n",
        "        self.relu = nn.ReLU()\n",
        "\n",
        "    def forward(self, x):\n",
        "        x = self.pool(self.relu(self.conv1(x)))\n",
        "        x = self.pool(self.relu(self.conv2(x)))\n",
        "        x = x.view(-1, 16 * 5 * 5)\n",
        "        x = self.relu(self.fc1(x))\n",
        "        x = self.relu(self.fc2(x))\n",
        "        x = self.fc3(x)\n",
        "        return x\n",
        "\n",
        "model = Autoencoder().to(device)\n",
        "criterion = nn.MSELoss()\n",
        "optimizer = optim.Adam(model.parameters(), lr=0.001)"
      ],
      "metadata": {
        "id": "QkXMwLXeOgS-"
      },
      "execution_count": 3,
      "outputs": []
    },
    {
      "cell_type": "markdown",
      "source": [
        "# Section 5: Training Autoencoder"
      ],
      "metadata": {
        "id": "JputTLV_OjaB"
      }
    },
    {
      "cell_type": "code",
      "source": [
        "epochs = 5\n",
        "for epoch in range(epochs):\n",
        "    for images, _ in train_loader:\n",
        "        images = images.to(device)\n",
        "        outputs = model(images)\n",
        "        loss = criterion(outputs, images)\n",
        "\n",
        "        optimizer.zero_grad()\n",
        "        loss.backward()\n",
        "        optimizer.step()\n",
        "\n",
        "    print(f\"Epoch {epoch+1}/{epochs}, Loss: {loss.item():.4f}\")"
      ],
      "metadata": {
        "colab": {
          "base_uri": "https://localhost:8080/"
        },
        "id": "5oIAX5dkOk7K",
        "outputId": "becb2e23-d4a9-4f2e-f9e9-99b8a265f917"
      },
      "execution_count": 14,
      "outputs": [
        {
          "output_type": "stream",
          "name": "stdout",
          "text": [
            "Epoch 1/5, Loss: 0.0029\n",
            "Epoch 2/5, Loss: 0.0019\n",
            "Epoch 3/5, Loss: 0.0015\n",
            "Epoch 4/5, Loss: 0.0010\n",
            "Epoch 5/5, Loss: 0.0009\n"
          ]
        }
      ]
    },
    {
      "cell_type": "markdown",
      "source": [
        "# Section 6: Visualize Reconstruction"
      ],
      "metadata": {
        "id": "ozEZG8qoOnnD"
      }
    },
    {
      "cell_type": "code",
      "source": [
        "def show_reconstruction():\n",
        "    model.eval()\n",
        "    with torch.no_grad():\n",
        "        for images, _ in train_loader:\n",
        "            images = images.to(device)\n",
        "            outputs = model(images)\n",
        "            break\n",
        "\n",
        "    fig, axes = plt.subplots(1, 2)\n",
        "    axes[0].imshow(images[0].cpu().squeeze(), cmap='gray')\n",
        "    axes[0].set_title(\"Original\")\n",
        "    axes[1].imshow(outputs[0].cpu().squeeze(), cmap='gray')\n",
        "    axes[1].set_title(\"Reconstructed\")\n",
        "    plt.show()\n"
      ],
      "metadata": {
        "id": "gE_DgJSpOpiT"
      },
      "execution_count": 15,
      "outputs": []
    },
    {
      "cell_type": "markdown",
      "source": [
        " After visualizing the reconstructed images, the goal is to evaluate how well the model learned the compressed representation.\n",
        "    If the reconstruction is good, it means the encoder has captured the essential information.\n",
        "\n",
        "    These latent features can now be reused:\n",
        "    - For clustering similar images\n",
        "    - As inputs to a classifier\n",
        "    - As building blocks for generative models like Variational Autoencoders or GANs"
      ],
      "metadata": {
        "id": "LXgqGlBHOs6-"
      }
    },
    {
      "cell_type": "code",
      "source": [
        "show_reconstruction()"
      ],
      "metadata": {
        "id": "M-RLdMLLO9vG",
        "outputId": "b879900b-f64e-4393-de63-c7babc6eb817",
        "colab": {
          "base_uri": "https://localhost:8080/",
          "height": 308
        }
      },
      "execution_count": 16,
      "outputs": [
        {
          "output_type": "display_data",
          "data": {
            "text/plain": [
              "<Figure size 640x480 with 2 Axes>"
            ],
            "image/png": "[encoded data removed]"
          },
          "metadata": {}
        }
      ]
    },
    {
      "cell_type": "markdown",
      "source": [
        "# Section 7: Classification Using Latent Features\n",
        "\n",
        "We now use the encoder's output (latent vector) to train a simple classifier.\n",
        "This demonstrates the power of unsupervised representation learning."
      ],
      "metadata": {
        "id": "w5wVQQjqO_zL"
      }
    },
    {
      "cell_type": "code",
      "source": [
        "class LatentClassifier(nn.Module):\n",
        "    def __init__(self):\n",
        "        super(LatentClassifier, self).__init__()\n",
        "        self.fc = nn.Sequential(\n",
        "            nn.Linear(64, 32),\n",
        "            nn.ReLU(),\n",
        "            nn.Linear(32, 10)\n",
        "        )\n",
        "\n",
        "    def forward(self, z):\n",
        "        return self.fc(z)\n",
        "\n",
        "classifier = LatentClassifier().to(device)\n",
        "clf_criterion = nn.CrossEntropyLoss()\n",
        "clf_optimizer = optim.Adam(classifier.parameters(), lr=0.001)"
      ],
      "metadata": {
        "id": "utdaSNzNPAUU"
      },
      "execution_count": 7,
      "outputs": []
    },
    {
      "cell_type": "markdown",
      "source": [
        "# Train the classifier using frozen encoder"
      ],
      "metadata": {
        "id": "7FzNjbT7POHy"
      }
    },
    {
      "cell_type": "code",
      "source": [
        "model.eval()\n",
        "for param in model.parameters():\n",
        "    param.requires_grad = False"
      ],
      "metadata": {
        "id": "JENDg-RhPPw-"
      },
      "execution_count": 8,
      "outputs": []
    },
    {
      "cell_type": "markdown",
      "source": [
        "# Classification training loop"
      ],
      "metadata": {
        "id": "p6-Odc99PQ0J"
      }
    },
    {
      "cell_type": "code",
      "source": [
        "epochs = 5\n",
        "for epoch in range(epochs):\n",
        "    classifier.train()\n",
        "    for images, labels in train_loader:\n",
        "        images, labels = images.to(device), labels.to(device)\n",
        "        with torch.no_grad():\n",
        "            z = model.encoder(images)\n",
        "        preds = classifier(z)\n",
        "        loss = clf_criterion(preds, labels)\n",
        "\n",
        "        clf_optimizer.zero_grad()\n",
        "        loss.backward()\n",
        "        clf_optimizer.step()\n",
        "\n",
        "    print(f\"[Classifier] Epoch {epoch+1}, Loss: {loss.item():.4f}\")"
      ],
      "metadata": {
        "id": "QyyP7ExXPTbS",
        "outputId": "7cb12efe-d3b1-441e-a4e5-82020c8f2905",
        "colab": {
          "base_uri": "https://localhost:8080/"
        }
      },
      "execution_count": 9,
      "outputs": [
        {
          "output_type": "stream",
          "name": "stdout",
          "text": [
            "[Classifier] Epoch 1, Loss: 0.5235\n",
            "[Classifier] Epoch 2, Loss: 0.0834\n",
            "[Classifier] Epoch 3, Loss: 0.0895\n",
            "[Classifier] Epoch 4, Loss: 0.3957\n",
            "[Classifier] Epoch 5, Loss: 0.5636\n"
          ]
        }
      ]
    },
    {
      "cell_type": "markdown",
      "source": [
        "# Evaluate classifier"
      ],
      "metadata": {
        "id": "4ZU4HqicPV03"
      }
    },
    {
      "cell_type": "code",
      "source": [
        "correct, total = 0, 0\n",
        "classifier.eval()\n",
        "with torch.no_grad():\n",
        "    for images, labels in val_loader:\n",
        "        images, labels = images.to(device), labels.to(device)\n",
        "        z = model.encoder(images)\n",
        "        preds = classifier(z)\n",
        "        predicted = preds.argmax(1)\n",
        "        correct += (predicted == labels).sum().item()\n",
        "        total += labels.size(0)\n",
        "\n",
        "print(f\"Validation Accuracy using latent features: {100 * correct / total:.2f}%\")"
      ],
      "metadata": {
        "id": "QPzu4E9fPXQy",
        "outputId": "f3d689ff-6267-4b95-dbb2-562ed15d6675",
        "colab": {
          "base_uri": "https://localhost:8080/"
        }
      },
      "execution_count": 10,
      "outputs": [
        {
          "output_type": "stream",
          "name": "stdout",
          "text": [
            "Validation Accuracy using latent features: 95.21%\n"
          ]
        }
      ]
    },
    {
      "cell_type": "markdown",
      "source": [
        "# Final Notes:\n",
        "\n",
        "We explored basic and masked autoencoders in this notebook.\n",
        "They enable learning rich visual representations without any labels.\n",
        "\n",
        "By training to reconstruct input images or masked portions,\n",
        "autoencoders learn **meaningful features** that capture underlying structure in the data.\n",
        "These features can be used as a foundation for other computer vision tasks:\n",
        "- Classification (as demonstrated)\n",
        "- Clustering\n",
        "- Generative Modeling (e.g. VAEs, GANs)"
      ],
      "metadata": {
        "id": "xCNOKZHcPiOI"
      }
    },
    {
      "cell_type": "code",
      "source": [],
      "metadata": {
        "id": "ofLRGeK9PkB8"
      },
      "execution_count": 10,
      "outputs": []
    }
  ]
}