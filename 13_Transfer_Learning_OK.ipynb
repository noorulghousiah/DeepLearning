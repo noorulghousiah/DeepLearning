{
  "cells": [
    {
      "cell_type": "code",
      "execution_count": 1,
      "metadata": {
        "id": "MEBwvfDEbMrb"
      },
      "outputs": [],
      "source": [
        "%matplotlib inline"
      ]
    },
    {
      "cell_type": "code",
      "source": [
        "!nvidia-smi"
      ],
      "metadata": {
        "id": "2lF5IkES-CAC",
        "outputId": "2ced5f3b-b70e-4dbe-865a-da571862b770",
        "colab": {
          "base_uri": "https://localhost:8080/"
        }
      },
      "execution_count": 2,
      "outputs": [
        {
          "output_type": "stream",
          "name": "stdout",
          "text": [
            "Thu May 15 18:37:55 2025       \n",
            "+-----------------------------------------------------------------------------------------+\n",
            "| NVIDIA-SMI 550.54.15              Driver Version: 550.54.15      CUDA Version: 12.4     |\n",
            "|-----------------------------------------+------------------------+----------------------+\n",
            "| GPU  Name                 Persistence-M | Bus-Id          Disp.A | Volatile Uncorr. ECC |\n",
            "| Fan  Temp   Perf          Pwr:Usage/Cap |           Memory-Usage | GPU-Util  Compute M. |\n",
            "|                                         |                        |               MIG M. |\n",
            "|=========================================+========================+======================|\n",
            "|   0  Tesla T4                       Off |   00000000:00:04.0 Off |                    0 |\n",
            "| N/A   42C    P8              9W /   70W |       0MiB /  15360MiB |      0%      Default |\n",
            "|                                         |                        |                  N/A |\n",
            "+-----------------------------------------+------------------------+----------------------+\n",
            "                                                                                         \n",
            "+-----------------------------------------------------------------------------------------+\n",
            "| Processes:                                                                              |\n",
            "|  GPU   GI   CI        PID   Type   Process name                              GPU Memory |\n",
            "|        ID   ID                                                               Usage      |\n",
            "|=========================================================================================|\n",
            "|  No running processes found                                                             |\n",
            "+-----------------------------------------------------------------------------------------+\n"
          ]
        }
      ]
    },
    {
      "cell_type": "markdown",
      "metadata": {
        "id": "2pW1hKzCbMri"
      },
      "source": [
        "## Pytorch Transfer Learning\n",
        "\n",
        "We've built a few models by hand so far.\n",
        "\n",
        "But their performance has been poor.\n",
        "\n",
        "You might be thinking, is there a well-performing model that already exists for our problem?\n",
        "\n",
        "And in the world of deep learning, the answer is often yes.\n",
        "\n",
        "We'll see how by using a powerful technique called transfer learning.\n",
        "\n",
        "In this notebook, you will learn how to train a convolutional neural network for\n",
        "image classification using transfer learning. You can read more about the transfer\n",
        "learning at `cs231n notes <https://cs231n.github.io/transfer-learning/>`__\n",
        "\n",
        "Quoting these notes,\n",
        "\n",
        "    In practice, very few people train an entire Convolutional Network\n",
        "    from scratch (with random initialization), because it is relatively\n",
        "    rare to have a dataset of sufficient size. Instead, it is common to\n",
        "    pretrain a ConvNet on a very large dataset (e.g. ImageNet, which\n",
        "    contains 1.2 million images with 1000 categories), and then use the\n",
        "    ConvNet either as an initialization or a fixed feature extractor for\n",
        "    the task of interest.\n",
        "\n",
        "\n",
        "## What is transfer learning?\n",
        "\n",
        "**Transfer learning** allows us to take the patterns (also called weights) another model has learned from another problem and use them for our own problem.\n",
        "\n",
        "For example, we can take the patterns a computer vision model has learned from datasets such as [ImageNet](https://www.image-net.org/) (millions of images of different objects) and use them to train new model on CIFAR10.\n",
        "\n",
        "Or we could take the patterns from a [language model](https://developers.google.com/machine-learning/glossary#masked-language-model) (a model that's been through large amounts of text to learn a representation of language) and use them as the basis of a model to classify different text samples.\n",
        "\n",
        "The premise remains: find a well-performing existing model and apply it to your own problem.\n",
        "\n",
        "<img src=\"https://raw.githubusercontent.com/mrdbourke/pytorch-deep-learning/main/images/06-transfer-learning-example-overview.png\" alt=\"transfer learning overview on different problems\" width=900/>\n",
        "\n",
        "*Example of transfer learning being applied to computer vision and natural language processing (NLP). In the case of computer vision, a computer vision model might learn patterns on millions of images in ImageNet and then use those patterns to infer on another problem. And for NLP, a language model may learn the structure of language by reading all of Wikipedia (and perhaps more) and then apply that knowledge to a different problem.*\n",
        "\n",
        "\n",
        "## Where to find pretrained models\n",
        "\n",
        "The world of deep learning is an amazing place.\n",
        "\n",
        "So amazing that many people around the world share their work.\n",
        "\n",
        "Often, code and pretrained models for the latest state-of-the-art research is released within a few days of publishing.\n",
        "\n",
        "And there are several places you can find pretrained models to use for your own problems.\n",
        "\n",
        "| **Location** | **What's there?** | **Link(s)** |\n",
        "| ----- | ----- | ----- |\n",
        "| **PyTorch domain libraries** | Each of the PyTorch domain libraries (`torchvision`, `torchtext`) come with pretrained models of some form. The models there work right within PyTorch. | [`torchvision.models`](https://pytorch.org/vision/stable/models.html), [`torchtext.models`](https://pytorch.org/text/main/models.html), [`torchaudio.models`](https://pytorch.org/audio/stable/models.html), [`torchrec.models`](https://pytorch.org/torchrec/torchrec.models.html) |\n",
        "| **HuggingFace Hub** | A series of pretrained models on many different domains (vision, text, audio and more) from organizations around the world. There's plenty of different datasets too. | https://huggingface.co/models, https://huggingface.co/datasets |\n",
        "| **`timm` (PyTorch Image Models) library** | Almost all of the latest and greatest computer vision models in PyTorch code as well as plenty of other helpful computer vision features. | https://github.com/rwightman/pytorch-image-models|\n",
        "| **Paperswithcode** | A collection of the latest state-of-the-art machine learning papers with code implementations attached. You can also find benchmarks here of model performance on different tasks. | https://paperswithcode.com/ |\n",
        "\n",
        "<img src=\"https://raw.githubusercontent.com/mrdbourke/pytorch-deep-learning/main/images/06-transfer-learning-where-to-find-pretrained-models.png\" alt=\"different locations to find pretrained neural network models\" width=900/>\n",
        "\n",
        "*With access to such high-quality resources as above, it should be common practice at the start of every deep learning problem you take on to ask, \"Does a pretrained model exist for my problem?\"*\n",
        "\n",
        "> **Exercise:** Spend 5-minutes going through [`torchvision.models`](https://pytorch.org/vision/stable/models.html) as well as the [HuggingFace Hub Models page](https://huggingface.co/models), what do you find? (there's no right answers here, it's just to practice exploring)\n",
        "\n",
        "\n",
        "These two major transfer learning scenarios look as follows:\n",
        "\n",
        "-  **Finetuning the convnet**: Instead of random initialization, we\n",
        "   initialize the network with a pretrained network, like the one that is\n",
        "   trained on imagenet 1000 dataset. Rest of the training looks as\n",
        "   usual.\n",
        "-  **ConvNet as fixed feature extractor**: Here, we will freeze the weights\n",
        "   for all of the network except that of the final fully connected\n",
        "   layer. This last fully connected layer is replaced with a new one\n",
        "   with random weights and only this layer is trained.\n"
      ]
    },
    {
      "cell_type": "code",
      "execution_count": 3,
      "metadata": {
        "id": "V1CkAbw0bMrn",
        "outputId": "2c500d87-fc91-42c4-d915-b6d4dd62d7b2",
        "colab": {
          "base_uri": "https://localhost:8080/"
        }
      },
      "outputs": [
        {
          "output_type": "stream",
          "name": "stdout",
          "text": [
            "[INFO] Couldn't find torchinfo... installing it.\n"
          ]
        }
      ],
      "source": [
        "import torch\n",
        "import torch.nn as nn\n",
        "import torch.optim as optim\n",
        "from torch.optim import lr_scheduler\n",
        "import numpy as np\n",
        "import torchvision\n",
        "from torchvision import datasets, models, transforms\n",
        "import matplotlib.pyplot as plt\n",
        "import time\n",
        "import os\n",
        "\n",
        "# Try to get torchinfo, install it if it doesn't work\n",
        "try:\n",
        "    from torchinfo import summary\n",
        "except:\n",
        "    print(\"[INFO] Couldn't find torchinfo... installing it.\")\n",
        "    !pip install -q torchinfo\n",
        "    from torchinfo import summary\n",
        "\n",
        "# move the model to GPU\n",
        "device = torch.device('cuda:0' if torch.cuda.is_available() else 'cpu')"
      ]
    },
    {
      "cell_type": "markdown",
      "metadata": {
        "id": "XDLpHs_ZbMrp"
      },
      "source": [
        "## 1. Load Data\n",
        "---------\n",
        "\n",
        "Before we can start to use **transfer learning**, we'll need a dataset.\n",
        "\n",
        "To see how transfer learning compares to our previous attempts at model building, we'll use the same CIFAR10 for experimentation.\n"
      ]
    },
    {
      "cell_type": "code",
      "source": [
        "class CIFAR10Dataset(torch.utils.data.Dataset):\n",
        "    def __init__(self, root='./data', train=True, transform=None, download=True):\n",
        "        self.data = torchvision.datasets.CIFAR10(root=root, train=train, download=download, transform=transform)\n",
        "\n",
        "    def __len__(self):\n",
        "        return len(self.data)\n",
        "\n",
        "    def __getitem__(self, idx):\n",
        "        return self.data[idx]  # Returns (image, label) tuple\n",
        "\n",
        "def get_dataloader(batch_size=32, num_workers=2, root='./data'):\n",
        "    transform = transforms.Compose([\n",
        "        transforms.CenterCrop(size=224),\n",
        "        transforms.ToTensor(),\n",
        "        transforms.Normalize([0.485, 0.456, 0.406],\n",
        "                             [0.229, 0.224, 0.225])\n",
        "    ])\n",
        "\n",
        "    train_dataset = CIFAR10Dataset(root=root, train=True, transform=transform)\n",
        "    test_dataset = CIFAR10Dataset(root=root, train=False, transform=transform)\n",
        "\n",
        "    train_dataloader = torch.utils.data.DataLoader(train_dataset, batch_size=batch_size, shuffle=True, num_workers=num_workers)\n",
        "    test_dataloader = torch.utils.data.DataLoader(test_dataset, batch_size=batch_size, shuffle=False, num_workers=num_workers)\n",
        "\n",
        "    return train_dataloader, test_dataloader\n",
        "\n",
        "# Get dataloaders\n",
        "train_dataloader, test_dataloader = get_dataloader(batch_size=32, num_workers=2)\n",
        "\n",
        "# Define class names\n",
        "class_names = ('plane', 'car', 'bird', 'cat', 'deer', 'dog', 'frog', 'horse', 'ship', 'truck')\n",
        "\n",
        "batch_size = 16"
      ],
      "metadata": {
        "id": "VB20BsOb6fOX",
        "outputId": "26def264-05cd-4ce7-beed-cf17e08e9640",
        "colab": {
          "base_uri": "https://localhost:8080/"
        }
      },
      "execution_count": 4,
      "outputs": [
        {
          "output_type": "stream",
          "name": "stdout",
          "text": [
            "Downloading https://www.cs.toronto.edu/~kriz/cifar-10-python.tar.gz to ./data/cifar-10-python.tar.gz\n"
          ]
        },
        {
          "output_type": "stream",
          "name": "stderr",
          "text": [
            "100%|██████████| 170M/170M [00:14<00:00, 12.0MB/s]\n"
          ]
        },
        {
          "output_type": "stream",
          "name": "stdout",
          "text": [
            "Extracting ./data/cifar-10-python.tar.gz to ./data\n",
            "Files already downloaded and verified\n"
          ]
        }
      ]
    },
    {
      "cell_type": "markdown",
      "metadata": {
        "id": "fzBJhridbMrr"
      },
      "source": [
        "## 2. Define the training loop\n",
        "\n"
      ]
    },
    {
      "cell_type": "code",
      "execution_count": 5,
      "metadata": {
        "id": "16shNGOgbMrs"
      },
      "outputs": [],
      "source": [
        "import time\n",
        "from tqdm.auto import tqdm\n",
        "\n",
        "def train_and_validate(model, loss_criterion, optimizer, train_dataloader, test_dataloader, epochs=25, device='cuda'):\n",
        "    '''\n",
        "    Function to train and validate\n",
        "    Parameters\n",
        "        :param model: Model to train and validate\n",
        "        :param loss_criterion: Loss Criterion to minimize\n",
        "        :param optimizer: Optimizer for computing gradients\n",
        "        :param train_dataloader: DataLoader for training data\n",
        "        :param test_dataloader: DataLoader for test/validation data\n",
        "        :param epochs: Number of epochs (default=25)\n",
        "        :param device: Device to perform computations ('cuda' or 'cpu')\n",
        "\n",
        "    Returns\n",
        "        model: Trained Model with best validation accuracy\n",
        "        history: (dict object): Having training loss, accuracy and validation loss, accuracy\n",
        "    '''\n",
        "\n",
        "    start = time.time()\n",
        "    history = []\n",
        "    best_acc = 0.0\n",
        "\n",
        "    # accuracy = torchmetrics.Accuracy(device=device)\n",
        "    # Initialize the accuracy metric from torchmetrics\n",
        "    # accuracy = torchmetrics.classification.Accuracy(task=\"multiclass\", num_classes=10).to(device)\n",
        "\n",
        "    for epoch in tqdm(range(epochs)):\n",
        "        epoch_start = time.time()\n",
        "        print(\"Epoch: {}/{}\".format(epoch+1, epochs))\n",
        "\n",
        "        model.train()\n",
        "\n",
        "        train_loss = 0.0\n",
        "        train_acc = 0.0\n",
        "\n",
        "        valid_loss = 0.0\n",
        "        valid_acc = 0.0\n",
        "\n",
        "        for i, (inputs, labels) in enumerate(train_dataloader):\n",
        "\n",
        "            inputs = inputs.to(device)\n",
        "            labels = labels.to(device)\n",
        "\n",
        "            # Clean existing gradients\n",
        "            optimizer.zero_grad()\n",
        "\n",
        "            # Forward pass - compute outputs on input data using the model\n",
        "            outputs = model(inputs)\n",
        "\n",
        "            # Compute loss\n",
        "            loss = loss_criterion(outputs, labels)\n",
        "\n",
        "            # Backpropagate the gradients\n",
        "            loss.backward()\n",
        "\n",
        "            # Update the parameters\n",
        "            optimizer.step()\n",
        "\n",
        "            # Compute the total loss for the batch and add it to train_loss\n",
        "            train_loss += loss.item() * inputs.size(0)\n",
        "\n",
        "            # Compute the accuracy\n",
        "            ret, predictions = torch.max(outputs.data, 1)\n",
        "            correct_counts = predictions.eq(labels.data.view_as(predictions))\n",
        "\n",
        "            # Convert correct_counts to float and then compute the mean\n",
        "            acc = torch.mean(correct_counts.type(torch.FloatTensor))\n",
        "\n",
        "            # Compute total accuracy in the whole batch and add to train_acc\n",
        "            train_acc += acc.item() * inputs.size(0)\n",
        "\n",
        "        # Validation - No gradient tracking needed\n",
        "        with torch.no_grad():\n",
        "\n",
        "            model.eval()\n",
        "\n",
        "            # Validation loop\n",
        "            for j, (inputs, labels) in enumerate(test_dataloader):\n",
        "                inputs = inputs.to(device)\n",
        "                labels = labels.to(device)\n",
        "\n",
        "                # Forward pass - compute outputs on input data using the model\n",
        "                outputs = model(inputs)\n",
        "\n",
        "                # Compute loss\n",
        "                loss = loss_criterion(outputs, labels)\n",
        "\n",
        "                # Compute the total loss for the batch and add it to valid_loss\n",
        "                valid_loss += loss.item() * inputs.size(0)\n",
        "\n",
        "                # Calculate validation accuracy\n",
        "                ret, predictions = torch.max(outputs.data, 1)\n",
        "                correct_counts = predictions.eq(labels.data.view_as(predictions))\n",
        "\n",
        "                # Convert correct_counts to float and then compute the mean\n",
        "                acc = torch.mean(correct_counts.type(torch.FloatTensor))\n",
        "\n",
        "                # Compute total accuracy in the whole batch and add to valid_acc\n",
        "                valid_acc += acc.item() * inputs.size(0)\n",
        "\n",
        "\n",
        "        # Find average training loss and training accuracy\n",
        "        avg_train_loss = train_loss / len(train_dataloader.dataset)\n",
        "        avg_train_acc = train_acc / len(train_dataloader.dataset)\n",
        "\n",
        "        # Find average validation loss and training accuracy\n",
        "        avg_test_loss = valid_loss / len(test_dataloader.dataset)\n",
        "        avg_test_acc = valid_acc / len(test_dataloader.dataset)\n",
        "\n",
        "        history.append([avg_train_loss, avg_test_loss, avg_train_acc, avg_test_acc])\n",
        "\n",
        "        epoch_end = time.time()\n",
        "\n",
        "        print(\"Epoch : {:03d}, Training: Loss: {:.4f}, Accuracy: {:.4f}%, \\n\\t\\tValidation : Loss : {:.4f}, Accuracy: {:.4f}%, Time: {:.4f}s\".format(epoch, avg_train_loss, avg_train_acc * 100, avg_test_loss, avg_test_acc * 100, epoch_end - epoch_start))\n",
        "\n",
        "        # Save if the model has best accuracy till now\n",
        "        if avg_test_acc > best_acc:\n",
        "            best_acc = avg_test_acc\n",
        "            best_model = model\n",
        "            torch.save(best_model, 'best_model.pt')\n",
        "\n",
        "    return best_model, history"
      ]
    },
    {
      "cell_type": "markdown",
      "metadata": {
        "id": "7sWYeYbAbMrw"
      },
      "source": [
        "## 3. Finetuning the convnet\n",
        "----------------------\n",
        "\n",
        "Load a pretrained model and define a **NEW** final fully connected layer.\n",
        "\n",
        "Since we're working on a computer vision problem, we can find pretrained classification models in [`torchvision.models`](https://pytorch.org/vision/stable/models.html#classification).\n",
        "\n",
        "Exploring the documentation, you'll find plenty of common computer vision architecture backbones such as:\n",
        "\n",
        "| **Architecuture backbone** | **Code** |\n",
        "| ----- | ----- |\n",
        "| [ResNet](https://arxiv.org/abs/1512.03385)'s | `torchvision.models.resnet18()`, `torchvision.models.resnet50()`... |\n",
        "| [VGG](https://arxiv.org/abs/1409.1556) (similar to what we used for TinyVGG) | `torchvision.models.vgg16()` |\n",
        "| [EfficientNet](https://arxiv.org/abs/1905.11946)'s | `torchvision.models.efficientnet_b0()`, `torchvision.models.efficientnet_b1()`... |\n",
        "| [VisionTransformer](https://arxiv.org/abs/2010.11929) (ViT's)| `torchvision.models.vit_b_16()`, `torchvision.models.vit_b_32()`... |\n",
        "| [ConvNeXt](https://arxiv.org/abs/2201.03545) | `torchvision.models.convnext_tiny()`,  `torchvision.models.convnext_small()`... |\n",
        "| More available in `torchvision.models` | `torchvision.models...` |\n",
        "\n",
        "### 3.1 Which pretrained model should you use?\n",
        "\n",
        "It depends on your problem/the device you're working with.\n",
        "\n",
        "Generally, the higher number in the model name (e.g. `resnet18()` -> `resnet50()` -> `resnet152()`) means *better performance* but a *larger* model.\n",
        "\n",
        "You might think better performance is *always better*, right?\n",
        "\n",
        "That's true but **some better performing models are too big for some devices**.\n",
        "\n",
        "For example, say you'd like to run your model on a mobile-device, you'll have to take into account the limited compute resources on the device, thus you'd be looking for a smaller model.\n",
        "\n",
        "But if you've got unlimited compute power, you'd likely take the biggest, most compute hungry model you can.\n",
        "\n",
        "Understanding this **performance vs. speed vs. size tradeoff** will come with time and practice.\n",
        "\n",
        "For example, a nice balance can be found in the `efficientnet_bX` models.\n",
        "\n",
        "As of May 2022, [Nutrify](https://nutrify.app) (the machine learning powered app I'm working on) is powered by an `efficientnet_b0`.\n",
        "\n",
        "[Comma.ai](https://comma.ai/) (a company that makes open source self-driving car software) [uses an `efficientnet_b2`](https://geohot.github.io/blog/jekyll/update/2021/10/29/an-architecture-for-life.html) to learn a representation of the road."
      ]
    },
    {
      "cell_type": "markdown",
      "source": [
        "### 3.2 Setting up a pretrained model\n",
        "\n",
        "The pretrained model we're going to be using is [`torchvision.models.resnet18()`](https://pytorch.org/vision/master/models/generated/torchvision.models.resnet18.html#torchvision.models.resnet18).\n",
        "\n",
        "The architecture is from the paper *[Deep Residual Learning for Image Recognition](https://arxiv.org/abs/1512.03385)*.\n",
        "\n",
        "<img src=\"https://raw.githubusercontent.com/mrdbourke/pytorch-deep-learning/main/images/06-effnet-b0-feature-extractor.png\" alt=\"efficienet_b0 from PyTorch torchvision feature extraction model\" width=900/>\n",
        "\n",
        "*Example of what we're going to create, a pretrained resnet18 from `torchvision.models` with the output layer adjusted for our use case of classifying objects in CIFAR10."
      ],
      "metadata": {
        "id": "tPuFhkHQlcm-"
      }
    },
    {
      "cell_type": "markdown",
      "source": [
        "Let say we are using the Resnet 18 as our pretrained model. We can download and visualize the layers:"
      ],
      "metadata": {
        "id": "lnfAH-_auHBc"
      }
    },
    {
      "cell_type": "code",
      "execution_count": 6,
      "metadata": {
        "id": "0SyIHmRpbMrx",
        "colab": {
          "base_uri": "https://localhost:8080/"
        },
        "outputId": "173f9717-e0c2-4db5-e0b8-3fe1ee647d64"
      },
      "outputs": [
        {
          "output_type": "stream",
          "name": "stderr",
          "text": [
            "/usr/local/lib/python3.11/dist-packages/torchvision/models/_utils.py:208: UserWarning: The parameter 'pretrained' is deprecated since 0.13 and may be removed in the future, please use 'weights' instead.\n",
            "  warnings.warn(\n",
            "/usr/local/lib/python3.11/dist-packages/torchvision/models/_utils.py:223: UserWarning: Arguments other than a weight enum or `None` for 'weights' are deprecated since 0.13 and may be removed in the future. The current behavior is equivalent to passing `weights=ResNet18_Weights.IMAGENET1K_V1`. You can also use `weights=ResNet18_Weights.DEFAULT` to get the most up-to-date weights.\n",
            "  warnings.warn(msg)\n",
            "Downloading: \"https://download.pytorch.org/models/resnet18-f37072fd.pth\" to /root/.cache/torch/hub/checkpoints/resnet18-f37072fd.pth\n",
            "100%|██████████| 44.7M/44.7M [00:00<00:00, 212MB/s]\n"
          ]
        },
        {
          "output_type": "execute_result",
          "data": {
            "text/plain": [
              "ResNet(\n",
              "  (conv1): Conv2d(3, 64, kernel_size=(7, 7), stride=(2, 2), padding=(3, 3), bias=False)\n",
              "  (bn1): BatchNorm2d(64, eps=1e-05, momentum=0.1, affine=True, track_running_stats=True)\n",
              "  (relu): ReLU(inplace=True)\n",
              "  (maxpool): MaxPool2d(kernel_size=3, stride=2, padding=1, dilation=1, ceil_mode=False)\n",
              "  (layer1): Sequential(\n",
              "    (0): BasicBlock(\n",
              "      (conv1): Conv2d(64, 64, kernel_size=(3, 3), stride=(1, 1), padding=(1, 1), bias=False)\n",
              "      (bn1): BatchNorm2d(64, eps=1e-05, momentum=0.1, affine=True, track_running_stats=True)\n",
              "      (relu): ReLU(inplace=True)\n",
              "      (conv2): Conv2d(64, 64, kernel_size=(3, 3), stride=(1, 1), padding=(1, 1), bias=False)\n",
              "      (bn2): BatchNorm2d(64, eps=1e-05, momentum=0.1, affine=True, track_running_stats=True)\n",
              "    )\n",
              "    (1): BasicBlock(\n",
              "      (conv1): Conv2d(64, 64, kernel_size=(3, 3), stride=(1, 1), padding=(1, 1), bias=False)\n",
              "      (bn1): BatchNorm2d(64, eps=1e-05, momentum=0.1, affine=True, track_running_stats=True)\n",
              "      (relu): ReLU(inplace=True)\n",
              "      (conv2): Conv2d(64, 64, kernel_size=(3, 3), stride=(1, 1), padding=(1, 1), bias=False)\n",
              "      (bn2): BatchNorm2d(64, eps=1e-05, momentum=0.1, affine=True, track_running_stats=True)\n",
              "    )\n",
              "  )\n",
              "  (layer2): Sequential(\n",
              "    (0): BasicBlock(\n",
              "      (conv1): Conv2d(64, 128, kernel_size=(3, 3), stride=(2, 2), padding=(1, 1), bias=False)\n",
              "      (bn1): BatchNorm2d(128, eps=1e-05, momentum=0.1, affine=True, track_running_stats=True)\n",
              "      (relu): ReLU(inplace=True)\n",
              "      (conv2): Conv2d(128, 128, kernel_size=(3, 3), stride=(1, 1), padding=(1, 1), bias=False)\n",
              "      (bn2): BatchNorm2d(128, eps=1e-05, momentum=0.1, affine=True, track_running_stats=True)\n",
              "      (downsample): Sequential(\n",
              "        (0): Conv2d(64, 128, kernel_size=(1, 1), stride=(2, 2), bias=False)\n",
              "        (1): BatchNorm2d(128, eps=1e-05, momentum=0.1, affine=True, track_running_stats=True)\n",
              "      )\n",
              "    )\n",
              "    (1): BasicBlock(\n",
              "      (conv1): Conv2d(128, 128, kernel_size=(3, 3), stride=(1, 1), padding=(1, 1), bias=False)\n",
              "      (bn1): BatchNorm2d(128, eps=1e-05, momentum=0.1, affine=True, track_running_stats=True)\n",
              "      (relu): ReLU(inplace=True)\n",
              "      (conv2): Conv2d(128, 128, kernel_size=(3, 3), stride=(1, 1), padding=(1, 1), bias=False)\n",
              "      (bn2): BatchNorm2d(128, eps=1e-05, momentum=0.1, affine=True, track_running_stats=True)\n",
              "    )\n",
              "  )\n",
              "  (layer3): Sequential(\n",
              "    (0): BasicBlock(\n",
              "      (conv1): Conv2d(128, 256, kernel_size=(3, 3), stride=(2, 2), padding=(1, 1), bias=False)\n",
              "      (bn1): BatchNorm2d(256, eps=1e-05, momentum=0.1, affine=True, track_running_stats=True)\n",
              "      (relu): ReLU(inplace=True)\n",
              "      (conv2): Conv2d(256, 256, kernel_size=(3, 3), stride=(1, 1), padding=(1, 1), bias=False)\n",
              "      (bn2): BatchNorm2d(256, eps=1e-05, momentum=0.1, affine=True, track_running_stats=True)\n",
              "      (downsample): Sequential(\n",
              "        (0): Conv2d(128, 256, kernel_size=(1, 1), stride=(2, 2), bias=False)\n",
              "        (1): BatchNorm2d(256, eps=1e-05, momentum=0.1, affine=True, track_running_stats=True)\n",
              "      )\n",
              "    )\n",
              "    (1): BasicBlock(\n",
              "      (conv1): Conv2d(256, 256, kernel_size=(3, 3), stride=(1, 1), padding=(1, 1), bias=False)\n",
              "      (bn1): BatchNorm2d(256, eps=1e-05, momentum=0.1, affine=True, track_running_stats=True)\n",
              "      (relu): ReLU(inplace=True)\n",
              "      (conv2): Conv2d(256, 256, kernel_size=(3, 3), stride=(1, 1), padding=(1, 1), bias=False)\n",
              "      (bn2): BatchNorm2d(256, eps=1e-05, momentum=0.1, affine=True, track_running_stats=True)\n",
              "    )\n",
              "  )\n",
              "  (layer4): Sequential(\n",
              "    (0): BasicBlock(\n",
              "      (conv1): Conv2d(256, 512, kernel_size=(3, 3), stride=(2, 2), padding=(1, 1), bias=False)\n",
              "      (bn1): BatchNorm2d(512, eps=1e-05, momentum=0.1, affine=True, track_running_stats=True)\n",
              "      (relu): ReLU(inplace=True)\n",
              "      (conv2): Conv2d(512, 512, kernel_size=(3, 3), stride=(1, 1), padding=(1, 1), bias=False)\n",
              "      (bn2): BatchNorm2d(512, eps=1e-05, momentum=0.1, affine=True, track_running_stats=True)\n",
              "      (downsample): Sequential(\n",
              "        (0): Conv2d(256, 512, kernel_size=(1, 1), stride=(2, 2), bias=False)\n",
              "        (1): BatchNorm2d(512, eps=1e-05, momentum=0.1, affine=True, track_running_stats=True)\n",
              "      )\n",
              "    )\n",
              "    (1): BasicBlock(\n",
              "      (conv1): Conv2d(512, 512, kernel_size=(3, 3), stride=(1, 1), padding=(1, 1), bias=False)\n",
              "      (bn1): BatchNorm2d(512, eps=1e-05, momentum=0.1, affine=True, track_running_stats=True)\n",
              "      (relu): ReLU(inplace=True)\n",
              "      (conv2): Conv2d(512, 512, kernel_size=(3, 3), stride=(1, 1), padding=(1, 1), bias=False)\n",
              "      (bn2): BatchNorm2d(512, eps=1e-05, momentum=0.1, affine=True, track_running_stats=True)\n",
              "    )\n",
              "  )\n",
              "  (avgpool): AdaptiveAvgPool2d(output_size=(1, 1))\n",
              "  (fc): Linear(in_features=512, out_features=1000, bias=True)\n",
              ")"
            ]
          },
          "metadata": {},
          "execution_count": 6
        }
      ],
      "source": [
        "model_ft = models.resnet18(pretrained=True)\n",
        "model_ft"
      ]
    },
    {
      "cell_type": "code",
      "source": [
        "summary(model=model_ft,\n",
        "        input_size=(1, 3, 224, 224), # make sure this is \"input_size\", not \"input_shape\"\n",
        "        # col_names=[\"input_size\"], # uncomment for smaller output\n",
        "        col_names=[\"input_size\", \"output_size\", \"num_params\", \"trainable\"],\n",
        "        col_width=20,\n",
        "        row_settings=[\"var_names\"]\n",
        ")"
      ],
      "metadata": {
        "colab": {
          "base_uri": "https://localhost:8080/"
        },
        "id": "Z0aBkxgcVlIi",
        "outputId": "cd87bb26-4c71-4a7c-8611-f4d91eaba07e"
      },
      "execution_count": 7,
      "outputs": [
        {
          "output_type": "execute_result",
          "data": {
            "text/plain": [
              "========================================================================================================================\n",
              "Layer (type (var_name))                  Input Shape          Output Shape         Param #              Trainable\n",
              "========================================================================================================================\n",
              "ResNet (ResNet)                          [1, 3, 224, 224]     [1, 1000]            --                   True\n",
              "├─Conv2d (conv1)                         [1, 3, 224, 224]     [1, 64, 112, 112]    9,408                True\n",
              "├─BatchNorm2d (bn1)                      [1, 64, 112, 112]    [1, 64, 112, 112]    128                  True\n",
              "├─ReLU (relu)                            [1, 64, 112, 112]    [1, 64, 112, 112]    --                   --\n",
              "├─MaxPool2d (maxpool)                    [1, 64, 112, 112]    [1, 64, 56, 56]      --                   --\n",
              "├─Sequential (layer1)                    [1, 64, 56, 56]      [1, 64, 56, 56]      --                   True\n",
              "│    └─BasicBlock (0)                    [1, 64, 56, 56]      [1, 64, 56, 56]      --                   True\n",
              "│    │    └─Conv2d (conv1)               [1, 64, 56, 56]      [1, 64, 56, 56]      36,864               True\n",
              "│    │    └─BatchNorm2d (bn1)            [1, 64, 56, 56]      [1, 64, 56, 56]      128                  True\n",
              "│    │    └─ReLU (relu)                  [1, 64, 56, 56]      [1, 64, 56, 56]      --                   --\n",
              "│    │    └─Conv2d (conv2)               [1, 64, 56, 56]      [1, 64, 56, 56]      36,864               True\n",
              "│    │    └─BatchNorm2d (bn2)            [1, 64, 56, 56]      [1, 64, 56, 56]      128                  True\n",
              "│    │    └─ReLU (relu)                  [1, 64, 56, 56]      [1, 64, 56, 56]      --                   --\n",
              "│    └─BasicBlock (1)                    [1, 64, 56, 56]      [1, 64, 56, 56]      --                   True\n",
              "│    │    └─Conv2d (conv1)               [1, 64, 56, 56]      [1, 64, 56, 56]      36,864               True\n",
              "│    │    └─BatchNorm2d (bn1)            [1, 64, 56, 56]      [1, 64, 56, 56]      128                  True\n",
              "│    │    └─ReLU (relu)                  [1, 64, 56, 56]      [1, 64, 56, 56]      --                   --\n",
              "│    │    └─Conv2d (conv2)               [1, 64, 56, 56]      [1, 64, 56, 56]      36,864               True\n",
              "│    │    └─BatchNorm2d (bn2)            [1, 64, 56, 56]      [1, 64, 56, 56]      128                  True\n",
              "│    │    └─ReLU (relu)                  [1, 64, 56, 56]      [1, 64, 56, 56]      --                   --\n",
              "├─Sequential (layer2)                    [1, 64, 56, 56]      [1, 128, 28, 28]     --                   True\n",
              "│    └─BasicBlock (0)                    [1, 64, 56, 56]      [1, 128, 28, 28]     --                   True\n",
              "│    │    └─Conv2d (conv1)               [1, 64, 56, 56]      [1, 128, 28, 28]     73,728               True\n",
              "│    │    └─BatchNorm2d (bn1)            [1, 128, 28, 28]     [1, 128, 28, 28]     256                  True\n",
              "│    │    └─ReLU (relu)                  [1, 128, 28, 28]     [1, 128, 28, 28]     --                   --\n",
              "│    │    └─Conv2d (conv2)               [1, 128, 28, 28]     [1, 128, 28, 28]     147,456              True\n",
              "│    │    └─BatchNorm2d (bn2)            [1, 128, 28, 28]     [1, 128, 28, 28]     256                  True\n",
              "│    │    └─Sequential (downsample)      [1, 64, 56, 56]      [1, 128, 28, 28]     8,448                True\n",
              "│    │    └─ReLU (relu)                  [1, 128, 28, 28]     [1, 128, 28, 28]     --                   --\n",
              "│    └─BasicBlock (1)                    [1, 128, 28, 28]     [1, 128, 28, 28]     --                   True\n",
              "│    │    └─Conv2d (conv1)               [1, 128, 28, 28]     [1, 128, 28, 28]     147,456              True\n",
              "│    │    └─BatchNorm2d (bn1)            [1, 128, 28, 28]     [1, 128, 28, 28]     256                  True\n",
              "│    │    └─ReLU (relu)                  [1, 128, 28, 28]     [1, 128, 28, 28]     --                   --\n",
              "│    │    └─Conv2d (conv2)               [1, 128, 28, 28]     [1, 128, 28, 28]     147,456              True\n",
              "│    │    └─BatchNorm2d (bn2)            [1, 128, 28, 28]     [1, 128, 28, 28]     256                  True\n",
              "│    │    └─ReLU (relu)                  [1, 128, 28, 28]     [1, 128, 28, 28]     --                   --\n",
              "├─Sequential (layer3)                    [1, 128, 28, 28]     [1, 256, 14, 14]     --                   True\n",
              "│    └─BasicBlock (0)                    [1, 128, 28, 28]     [1, 256, 14, 14]     --                   True\n",
              "│    │    └─Conv2d (conv1)               [1, 128, 28, 28]     [1, 256, 14, 14]     294,912              True\n",
              "│    │    └─BatchNorm2d (bn1)            [1, 256, 14, 14]     [1, 256, 14, 14]     512                  True\n",
              "│    │    └─ReLU (relu)                  [1, 256, 14, 14]     [1, 256, 14, 14]     --                   --\n",
              "│    │    └─Conv2d (conv2)               [1, 256, 14, 14]     [1, 256, 14, 14]     589,824              True\n",
              "│    │    └─BatchNorm2d (bn2)            [1, 256, 14, 14]     [1, 256, 14, 14]     512                  True\n",
              "│    │    └─Sequential (downsample)      [1, 128, 28, 28]     [1, 256, 14, 14]     33,280               True\n",
              "│    │    └─ReLU (relu)                  [1, 256, 14, 14]     [1, 256, 14, 14]     --                   --\n",
              "│    └─BasicBlock (1)                    [1, 256, 14, 14]     [1, 256, 14, 14]     --                   True\n",
              "│    │    └─Conv2d (conv1)               [1, 256, 14, 14]     [1, 256, 14, 14]     589,824              True\n",
              "│    │    └─BatchNorm2d (bn1)            [1, 256, 14, 14]     [1, 256, 14, 14]     512                  True\n",
              "│    │    └─ReLU (relu)                  [1, 256, 14, 14]     [1, 256, 14, 14]     --                   --\n",
              "│    │    └─Conv2d (conv2)               [1, 256, 14, 14]     [1, 256, 14, 14]     589,824              True\n",
              "│    │    └─BatchNorm2d (bn2)            [1, 256, 14, 14]     [1, 256, 14, 14]     512                  True\n",
              "│    │    └─ReLU (relu)                  [1, 256, 14, 14]     [1, 256, 14, 14]     --                   --\n",
              "├─Sequential (layer4)                    [1, 256, 14, 14]     [1, 512, 7, 7]       --                   True\n",
              "│    └─BasicBlock (0)                    [1, 256, 14, 14]     [1, 512, 7, 7]       --                   True\n",
              "│    │    └─Conv2d (conv1)               [1, 256, 14, 14]     [1, 512, 7, 7]       1,179,648            True\n",
              "│    │    └─BatchNorm2d (bn1)            [1, 512, 7, 7]       [1, 512, 7, 7]       1,024                True\n",
              "│    │    └─ReLU (relu)                  [1, 512, 7, 7]       [1, 512, 7, 7]       --                   --\n",
              "│    │    └─Conv2d (conv2)               [1, 512, 7, 7]       [1, 512, 7, 7]       2,359,296            True\n",
              "│    │    └─BatchNorm2d (bn2)            [1, 512, 7, 7]       [1, 512, 7, 7]       1,024                True\n",
              "│    │    └─Sequential (downsample)      [1, 256, 14, 14]     [1, 512, 7, 7]       132,096              True\n",
              "│    │    └─ReLU (relu)                  [1, 512, 7, 7]       [1, 512, 7, 7]       --                   --\n",
              "│    └─BasicBlock (1)                    [1, 512, 7, 7]       [1, 512, 7, 7]       --                   True\n",
              "│    │    └─Conv2d (conv1)               [1, 512, 7, 7]       [1, 512, 7, 7]       2,359,296            True\n",
              "│    │    └─BatchNorm2d (bn1)            [1, 512, 7, 7]       [1, 512, 7, 7]       1,024                True\n",
              "│    │    └─ReLU (relu)                  [1, 512, 7, 7]       [1, 512, 7, 7]       --                   --\n",
              "│    │    └─Conv2d (conv2)               [1, 512, 7, 7]       [1, 512, 7, 7]       2,359,296            True\n",
              "│    │    └─BatchNorm2d (bn2)            [1, 512, 7, 7]       [1, 512, 7, 7]       1,024                True\n",
              "│    │    └─ReLU (relu)                  [1, 512, 7, 7]       [1, 512, 7, 7]       --                   --\n",
              "├─AdaptiveAvgPool2d (avgpool)            [1, 512, 7, 7]       [1, 512, 1, 1]       --                   --\n",
              "├─Linear (fc)                            [1, 512]             [1, 1000]            513,000              True\n",
              "========================================================================================================================\n",
              "Total params: 11,689,512\n",
              "Trainable params: 11,689,512\n",
              "Non-trainable params: 0\n",
              "Total mult-adds (Units.GIGABYTES): 1.81\n",
              "========================================================================================================================\n",
              "Input size (MB): 0.60\n",
              "Forward/backward pass size (MB): 39.75\n",
              "Params size (MB): 46.76\n",
              "Estimated Total Size (MB): 87.11\n",
              "========================================================================================================================"
            ]
          },
          "metadata": {},
          "execution_count": 7
        }
      ]
    },
    {
      "cell_type": "markdown",
      "source": [
        "Our main objective is to **REPLACE** the final classification layer (containing 1000 classes of Imagenet) with a **NEW** classification layer (containing 10, corresponding to 10 classes in CIFAR10)\n",
        "\n",
        "Therefore, we are accessing the in_features of the fc (fully connected) layer and connect it to a newly defined layer containing 10 neurons:"
      ],
      "metadata": {
        "id": "9Xmo2Dwkuf2v"
      }
    },
    {
      "cell_type": "code",
      "source": [
        "num_ftrs = model_ft.fc.in_features\n",
        "# Here the size of each output sample is set to 10.\n",
        "# Alternatively, it can be generalized to nn.Linear(num_ftrs, len(train_data.classes)).\n",
        "model_ft.fc = nn.Linear(num_ftrs, 10)\n",
        "\n",
        "# LOSS AND OPTIMIZER\n",
        "loss_fn = nn.CrossEntropyLoss()\n",
        "optimizer = torch.optim.SGD(model_ft.parameters(), lr=0.001, momentum=0.9)\n",
        "\n",
        "# move the model to GPU\n",
        "device = torch.device('cuda:0' if torch.cuda.is_available() else 'cpu')\n",
        "model_ft = model_ft.to(device)"
      ],
      "metadata": {
        "id": "F80BdM7auS5_"
      },
      "execution_count": 8,
      "outputs": []
    },
    {
      "cell_type": "markdown",
      "metadata": {
        "id": "THo1KYFMbMry"
      },
      "source": [
        "### Train and evaluate\n",
        "\n",
        "It should take around 15-25 min on CPU. On GPU though, it takes less than a\n",
        "minute.\n",
        "\n",
        "\n"
      ]
    },
    {
      "cell_type": "code",
      "execution_count": 9,
      "metadata": {
        "id": "ifwbrqKqbMrz",
        "outputId": "6faa673c-47ff-48ac-fd85-2eba33b20261",
        "colab": {
          "base_uri": "https://localhost:8080/",
          "height": 309,
          "referenced_widgets": [
            "c931eb44f27e496584689de5125fdae8",
            "39910e1c10ca49f5b4c5dc45b83b90d4",
            "fd2cac0282a84c16bc6115851798ad78",
            "f3733f3459c24328a12f17e48fab93ea",
            "2285b8c576cc4021b08a205a209bdde8",
            "fc28cfcddfdc44dba6232e6be4cd1b40",
            "5be9cd32f022482d8f2f14dc352448f0",
            "f465fd15714a41df8c73aac0a18745fd",
            "942dd695c79144a1bc6eac8523be308b",
            "ef76ff2c449e4112981a6684f36c38a4",
            "80a2c065a6594472b903f60d251bf956"
          ]
        }
      },
      "outputs": [
        {
          "output_type": "display_data",
          "data": {
            "text/plain": [
              "  0%|          | 0/5 [00:00<?, ?it/s]"
            ],
            "application/vnd.jupyter.widget-view+json": {
              "version_major": 2,
              "version_minor": 0,
              "model_id": "c931eb44f27e496584689de5125fdae8"
            }
          },
          "metadata": {}
        },
        {
          "output_type": "stream",
          "name": "stdout",
          "text": [
            "Epoch: 1/5\n",
            "Epoch : 000, Training: Loss: 0.9848, Accuracy: 65.0440%, \n",
            "\t\tValidation : Loss : 0.9466, Accuracy: 68.0500%, Time: 170.8920s\n",
            "Epoch: 2/5\n",
            "Epoch : 001, Training: Loss: 0.6474, Accuracy: 77.5100%, \n",
            "\t\tValidation : Loss : 0.6925, Accuracy: 75.3200%, Time: 171.3906s\n",
            "Epoch: 3/5\n",
            "Epoch : 002, Training: Loss: 0.5270, Accuracy: 81.6920%, \n",
            "\t\tValidation : Loss : 0.6754, Accuracy: 76.9300%, Time: 172.0531s\n",
            "Epoch: 4/5\n",
            "Epoch : 003, Training: Loss: 0.4400, Accuracy: 84.6200%, \n",
            "\t\tValidation : Loss : 0.7571, Accuracy: 73.7300%, Time: 171.9580s\n",
            "Epoch: 5/5\n",
            "Epoch : 004, Training: Loss: 0.3651, Accuracy: 87.1860%, \n",
            "\t\tValidation : Loss : 0.7094, Accuracy: 76.5700%, Time: 171.9069s\n"
          ]
        }
      ],
      "source": [
        "num_epochs = 5\n",
        "trained_model, history = train_and_validate(model_ft, loss_fn, optimizer, train_dataloader, test_dataloader, num_epochs)"
      ]
    },
    {
      "cell_type": "code",
      "source": [
        "#Analyze the loss curve\n",
        "\n",
        "def plot_loss(history):\n",
        "  history = np.array(history)\n",
        "  plt.plot(history[:,0:2])\n",
        "  plt.legend(['Tr Loss', 'Val Loss'])\n",
        "  plt.xlabel('Epoch Number')\n",
        "  plt.ylabel('Loss')\n",
        "  plt.ylim(0,3)\n",
        "  # plt.savefig('cifar10_loss_curve.png')\n",
        "  plt.show()\n",
        "\n",
        "def plot_accuracy(history):\n",
        "  history = np.array(history)\n",
        "  plt.plot(history[:,2:4])\n",
        "  plt.legend(['Tr Accuracy', 'Val Accuracy'])\n",
        "  plt.xlabel('Epoch Number')\n",
        "  plt.ylabel('Accuracy')\n",
        "  plt.ylim(0,1)\n",
        "  # plt.savefig('cifar10_accuracy_curve.png')\n",
        "  plt.show()\n",
        "\n",
        "from sklearn.metrics import confusion_matrix\n",
        "import seaborn as sn\n",
        "import pandas as pd\n",
        "\n",
        "def plot_confusionMatrix(model, test_dataloader):\n",
        "\n",
        "  y_pred = []\n",
        "  y_true = []\n",
        "\n",
        "  model.to('cpu')\n",
        "\n",
        "  # iterate over test data\n",
        "  for inputs, labels in test_dataloader:\n",
        "          output = model(inputs) # Feed Network\n",
        "\n",
        "          output = (torch.max(torch.exp(output), 1)[1]).data.cpu().numpy()\n",
        "          y_pred.extend(output) # Save Prediction\n",
        "\n",
        "          labels = labels.data.cpu().numpy()\n",
        "          y_true.extend(labels) # Save Truth\n",
        "\n",
        "  # Build confusion matrix\n",
        "  cf_matrix = confusion_matrix(y_true, y_pred)\n",
        "  df_cm = pd.DataFrame(cf_matrix/np.sum(cf_matrix) *10, index = [i for i in class_names],\n",
        "                      columns = [i for i in class_names])\n",
        "  plt.figure(figsize = (20,10))\n",
        "  sn.heatmap(df_cm, annot=True)\n",
        "  # plt.savefig('output.png')"
      ],
      "metadata": {
        "id": "_urjGvYzX3E2"
      },
      "execution_count": 10,
      "outputs": []
    },
    {
      "cell_type": "code",
      "execution_count": 11,
      "metadata": {
        "id": "mEcXbXkIbMrz",
        "outputId": "38a5c94b-1dc7-4d53-90b3-2c536cf0a60a",
        "colab": {
          "base_uri": "https://localhost:8080/",
          "height": 893
        }
      },
      "outputs": [
        {
          "output_type": "display_data",
          "data": {
            "text/plain": [
              "<Figure size 640x480 with 1 Axes>"
            ],
            "image/png": "[encoded data removed]"
          },
          "metadata": {}
        },
        {
          "output_type": "display_data",
          "data": {
            "text/plain": [
              "<Figure size 640x480 with 1 Axes>"
            ],
            "image/png": "[encoded data removed]"
          },
          "metadata": {}
        }
      ],
      "source": [
        "plot_loss(history)\n",
        "plot_accuracy(history)"
      ]
    },
    {
      "cell_type": "code",
      "source": [
        "plot_confusionMatrix(trained_model, test_dataloader)"
      ],
      "metadata": {
        "id": "swmdaXjdY2Xa",
        "outputId": "f5f27ed2-b861-494b-946f-25f1d1c83f10",
        "colab": {
          "base_uri": "https://localhost:8080/",
          "height": 830
        }
      },
      "execution_count": 12,
      "outputs": [
        {
          "output_type": "display_data",
          "data": {
            "text/plain": [
              "<Figure size 2000x1000 with 2 Axes>"
            ],
            "image/png": "[encoded data removed]"
          },
          "metadata": {}
        }
      ]
    },
    {
      "cell_type": "markdown",
      "metadata": {
        "id": "Edk51HbqbMr0"
      },
      "source": [
        "ConvNet as fixed feature extractor\n",
        "----------------------------------\n",
        "\n",
        "Here, we need to freeze all the network except the final layer. We need\n",
        "to set ``requires_grad = False`` to freeze the parameters so that the\n",
        "gradients are not computed in ``backward()``.\n",
        "\n",
        "You can read more about this in the documentation\n",
        "`here <https://pytorch.org/docs/notes/autograd.html#excluding-subgraphs-from-backward>`__.\n",
        "\n",
        "\n"
      ]
    },
    {
      "cell_type": "code",
      "source": [
        "model_conv = torchvision.models.resnet18(pretrained=True)\n",
        "for param in model_conv.parameters():\n",
        "    param.requires_grad = False\n",
        "\n",
        "# Parameters of newly constructed modules have requires_grad=True by default\n",
        "num_ftrs = model_conv.fc.in_features\n",
        "model_conv.fc = nn.Linear(num_ftrs, 10)\n",
        "\n",
        "model_conv = model_conv.to(device)"
      ],
      "metadata": {
        "id": "Wy2MNxvzkRfi",
        "outputId": "5f0d21f4-308f-4c58-b6d5-1f806e9c26ea",
        "colab": {
          "base_uri": "https://localhost:8080/"
        }
      },
      "execution_count": null,
      "outputs": [
        {
          "output_type": "stream",
          "name": "stderr",
          "text": [
            "/usr/local/lib/python3.11/dist-packages/torchvision/models/_utils.py:208: UserWarning: The parameter 'pretrained' is deprecated since 0.13 and may be removed in the future, please use 'weights' instead.\n",
            "  warnings.warn(\n",
            "/usr/local/lib/python3.11/dist-packages/torchvision/models/_utils.py:223: UserWarning: Arguments other than a weight enum or `None` for 'weights' are deprecated since 0.13 and may be removed in the future. The current behavior is equivalent to passing `weights=ResNet18_Weights.IMAGENET1K_V1`. You can also use `weights=ResNet18_Weights.DEFAULT` to get the most up-to-date weights.\n",
            "  warnings.warn(msg)\n"
          ]
        }
      ]
    },
    {
      "cell_type": "code",
      "source": [
        "# LOSS AND OPTIMIZER\n",
        "loss_fn = nn.CrossEntropyLoss()\n",
        "optimizer = torch.optim.SGD(model_conv.parameters(), lr=0.001, momentum=0.9)\n",
        "\n",
        "# move the model to GPU\n",
        "device = torch.device('cuda:0' if torch.cuda.is_available() else 'cpu')\n",
        "model_conv = model_conv.to(device)"
      ],
      "metadata": {
        "id": "rtecEFD4kSaw"
      },
      "execution_count": null,
      "outputs": []
    },
    {
      "cell_type": "code",
      "source": [
        "summary(model=model_conv,\n",
        "        input_size=(4, 3, 224, 224), # make sure this is \"input_size\", not \"input_shape\"\n",
        "        # col_names=[\"input_size\"], # uncomment for smaller output\n",
        "        col_names=[\"input_size\", \"output_size\", \"num_params\", \"trainable\"],\n",
        "        col_width=20,\n",
        "        row_settings=[\"var_names\"]\n",
        ")"
      ],
      "metadata": {
        "id": "BwuY5c6UmiiE",
        "outputId": "4d6f7afc-fede-449c-81b3-e3a0d9c53726",
        "colab": {
          "base_uri": "https://localhost:8080/"
        }
      },
      "execution_count": null,
      "outputs": [
        {
          "output_type": "execute_result",
          "data": {
            "text/plain": [
              "========================================================================================================================\n",
              "Layer (type (var_name))                  Input Shape          Output Shape         Param #              Trainable\n",
              "========================================================================================================================\n",
              "ResNet (ResNet)                          [4, 3, 224, 224]     [4, 10]              --                   Partial\n",
              "├─Conv2d (conv1)                         [4, 3, 224, 224]     [4, 64, 112, 112]    (9,408)              False\n",
              "├─BatchNorm2d (bn1)                      [4, 64, 112, 112]    [4, 64, 112, 112]    (128)                False\n",
              "├─ReLU (relu)                            [4, 64, 112, 112]    [4, 64, 112, 112]    --                   --\n",
              "├─MaxPool2d (maxpool)                    [4, 64, 112, 112]    [4, 64, 56, 56]      --                   --\n",
              "├─Sequential (layer1)                    [4, 64, 56, 56]      [4, 64, 56, 56]      --                   False\n",
              "│    └─BasicBlock (0)                    [4, 64, 56, 56]      [4, 64, 56, 56]      --                   False\n",
              "│    │    └─Conv2d (conv1)               [4, 64, 56, 56]      [4, 64, 56, 56]      (36,864)             False\n",
              "│    │    └─BatchNorm2d (bn1)            [4, 64, 56, 56]      [4, 64, 56, 56]      (128)                False\n",
              "│    │    └─ReLU (relu)                  [4, 64, 56, 56]      [4, 64, 56, 56]      --                   --\n",
              "│    │    └─Conv2d (conv2)               [4, 64, 56, 56]      [4, 64, 56, 56]      (36,864)             False\n",
              "│    │    └─BatchNorm2d (bn2)            [4, 64, 56, 56]      [4, 64, 56, 56]      (128)                False\n",
              "│    │    └─ReLU (relu)                  [4, 64, 56, 56]      [4, 64, 56, 56]      --                   --\n",
              "│    └─BasicBlock (1)                    [4, 64, 56, 56]      [4, 64, 56, 56]      --                   False\n",
              "│    │    └─Conv2d (conv1)               [4, 64, 56, 56]      [4, 64, 56, 56]      (36,864)             False\n",
              "│    │    └─BatchNorm2d (bn1)            [4, 64, 56, 56]      [4, 64, 56, 56]      (128)                False\n",
              "│    │    └─ReLU (relu)                  [4, 64, 56, 56]      [4, 64, 56, 56]      --                   --\n",
              "│    │    └─Conv2d (conv2)               [4, 64, 56, 56]      [4, 64, 56, 56]      (36,864)             False\n",
              "│    │    └─BatchNorm2d (bn2)            [4, 64, 56, 56]      [4, 64, 56, 56]      (128)                False\n",
              "│    │    └─ReLU (relu)                  [4, 64, 56, 56]      [4, 64, 56, 56]      --                   --\n",
              "├─Sequential (layer2)                    [4, 64, 56, 56]      [4, 128, 28, 28]     --                   False\n",
              "│    └─BasicBlock (0)                    [4, 64, 56, 56]      [4, 128, 28, 28]     --                   False\n",
              "│    │    └─Conv2d (conv1)               [4, 64, 56, 56]      [4, 128, 28, 28]     (73,728)             False\n",
              "│    │    └─BatchNorm2d (bn1)            [4, 128, 28, 28]     [4, 128, 28, 28]     (256)                False\n",
              "│    │    └─ReLU (relu)                  [4, 128, 28, 28]     [4, 128, 28, 28]     --                   --\n",
              "│    │    └─Conv2d (conv2)               [4, 128, 28, 28]     [4, 128, 28, 28]     (147,456)            False\n",
              "│    │    └─BatchNorm2d (bn2)            [4, 128, 28, 28]     [4, 128, 28, 28]     (256)                False\n",
              "│    │    └─Sequential (downsample)      [4, 64, 56, 56]      [4, 128, 28, 28]     (8,448)              False\n",
              "│    │    └─ReLU (relu)                  [4, 128, 28, 28]     [4, 128, 28, 28]     --                   --\n",
              "│    └─BasicBlock (1)                    [4, 128, 28, 28]     [4, 128, 28, 28]     --                   False\n",
              "│    │    └─Conv2d (conv1)               [4, 128, 28, 28]     [4, 128, 28, 28]     (147,456)            False\n",
              "│    │    └─BatchNorm2d (bn1)            [4, 128, 28, 28]     [4, 128, 28, 28]     (256)                False\n",
              "│    │    └─ReLU (relu)                  [4, 128, 28, 28]     [4, 128, 28, 28]     --                   --\n",
              "│    │    └─Conv2d (conv2)               [4, 128, 28, 28]     [4, 128, 28, 28]     (147,456)            False\n",
              "│    │    └─BatchNorm2d (bn2)            [4, 128, 28, 28]     [4, 128, 28, 28]     (256)                False\n",
              "│    │    └─ReLU (relu)                  [4, 128, 28, 28]     [4, 128, 28, 28]     --                   --\n",
              "├─Sequential (layer3)                    [4, 128, 28, 28]     [4, 256, 14, 14]     --                   False\n",
              "│    └─BasicBlock (0)                    [4, 128, 28, 28]     [4, 256, 14, 14]     --                   False\n",
              "│    │    └─Conv2d (conv1)               [4, 128, 28, 28]     [4, 256, 14, 14]     (294,912)            False\n",
              "│    │    └─BatchNorm2d (bn1)            [4, 256, 14, 14]     [4, 256, 14, 14]     (512)                False\n",
              "│    │    └─ReLU (relu)                  [4, 256, 14, 14]     [4, 256, 14, 14]     --                   --\n",
              "│    │    └─Conv2d (conv2)               [4, 256, 14, 14]     [4, 256, 14, 14]     (589,824)            False\n",
              "│    │    └─BatchNorm2d (bn2)            [4, 256, 14, 14]     [4, 256, 14, 14]     (512)                False\n",
              "│    │    └─Sequential (downsample)      [4, 128, 28, 28]     [4, 256, 14, 14]     (33,280)             False\n",
              "│    │    └─ReLU (relu)                  [4, 256, 14, 14]     [4, 256, 14, 14]     --                   --\n",
              "│    └─BasicBlock (1)                    [4, 256, 14, 14]     [4, 256, 14, 14]     --                   False\n",
              "│    │    └─Conv2d (conv1)               [4, 256, 14, 14]     [4, 256, 14, 14]     (589,824)            False\n",
              "│    │    └─BatchNorm2d (bn1)            [4, 256, 14, 14]     [4, 256, 14, 14]     (512)                False\n",
              "│    │    └─ReLU (relu)                  [4, 256, 14, 14]     [4, 256, 14, 14]     --                   --\n",
              "│    │    └─Conv2d (conv2)               [4, 256, 14, 14]     [4, 256, 14, 14]     (589,824)            False\n",
              "│    │    └─BatchNorm2d (bn2)            [4, 256, 14, 14]     [4, 256, 14, 14]     (512)                False\n",
              "│    │    └─ReLU (relu)                  [4, 256, 14, 14]     [4, 256, 14, 14]     --                   --\n",
              "├─Sequential (layer4)                    [4, 256, 14, 14]     [4, 512, 7, 7]       --                   False\n",
              "│    └─BasicBlock (0)                    [4, 256, 14, 14]     [4, 512, 7, 7]       --                   False\n",
              "│    │    └─Conv2d (conv1)               [4, 256, 14, 14]     [4, 512, 7, 7]       (1,179,648)          False\n",
              "│    │    └─BatchNorm2d (bn1)            [4, 512, 7, 7]       [4, 512, 7, 7]       (1,024)              False\n",
              "│    │    └─ReLU (relu)                  [4, 512, 7, 7]       [4, 512, 7, 7]       --                   --\n",
              "│    │    └─Conv2d (conv2)               [4, 512, 7, 7]       [4, 512, 7, 7]       (2,359,296)          False\n",
              "│    │    └─BatchNorm2d (bn2)            [4, 512, 7, 7]       [4, 512, 7, 7]       (1,024)              False\n",
              "│    │    └─Sequential (downsample)      [4, 256, 14, 14]     [4, 512, 7, 7]       (132,096)            False\n",
              "│    │    └─ReLU (relu)                  [4, 512, 7, 7]       [4, 512, 7, 7]       --                   --\n",
              "│    └─BasicBlock (1)                    [4, 512, 7, 7]       [4, 512, 7, 7]       --                   False\n",
              "│    │    └─Conv2d (conv1)               [4, 512, 7, 7]       [4, 512, 7, 7]       (2,359,296)          False\n",
              "│    │    └─BatchNorm2d (bn1)            [4, 512, 7, 7]       [4, 512, 7, 7]       (1,024)              False\n",
              "│    │    └─ReLU (relu)                  [4, 512, 7, 7]       [4, 512, 7, 7]       --                   --\n",
              "│    │    └─Conv2d (conv2)               [4, 512, 7, 7]       [4, 512, 7, 7]       (2,359,296)          False\n",
              "│    │    └─BatchNorm2d (bn2)            [4, 512, 7, 7]       [4, 512, 7, 7]       (1,024)              False\n",
              "│    │    └─ReLU (relu)                  [4, 512, 7, 7]       [4, 512, 7, 7]       --                   --\n",
              "├─AdaptiveAvgPool2d (avgpool)            [4, 512, 7, 7]       [4, 512, 1, 1]       --                   --\n",
              "├─Linear (fc)                            [4, 512]             [4, 10]              5,130                True\n",
              "========================================================================================================================\n",
              "Total params: 11,181,642\n",
              "Trainable params: 5,130\n",
              "Non-trainable params: 11,176,512\n",
              "Total mult-adds (Units.GIGABYTES): 7.25\n",
              "========================================================================================================================\n",
              "Input size (MB): 2.41\n",
              "Forward/backward pass size (MB): 158.96\n",
              "Params size (MB): 44.73\n",
              "Estimated Total Size (MB): 206.09\n",
              "========================================================================================================================"
            ]
          },
          "metadata": {},
          "execution_count": 15
        }
      ]
    },
    {
      "cell_type": "markdown",
      "metadata": {
        "id": "VvY-zKkKbMr1"
      },
      "source": [
        "Train and evaluate\n",
        "^^^^^^^^^^^^^^^^^^\n",
        "\n",
        "On CPU this will take about half the time compared to previous scenario.\n",
        "This is expected as gradients don't need to be computed for most of the\n",
        "network. However, forward does need to be computed.\n",
        "\n",
        "\n"
      ]
    },
    {
      "cell_type": "code",
      "execution_count": null,
      "metadata": {
        "id": "cLs3EULwbMr1",
        "outputId": "5323814b-9307-497b-a451-8888846987b5",
        "colab": {
          "base_uri": "https://localhost:8080/",
          "height": 223,
          "referenced_widgets": [
            "e4734ff6e2674f8f8b0bdb429347d0ec",
            "154be9cd3e9242ff88aa8931b7559082",
            "afa62399be024226ac84651ed63d7f21",
            "433a62a329d0491d96b4025f788ce6e9",
            "bd9632ee9aa645d4908d1234dd09dc97",
            "85593d2bce7f49b6a7314528603efcbe",
            "80128ebeceab475eab712e7378e3cd68",
            "8d6cb17026fd45678ed1f645d8547ba2",
            "1f7b2b39c2a6461ba619cad5287a3065",
            "523c7412e9f14c28b79a3c14e1993662",
            "90501c692370444f9b3c4725203b58b4"
          ]
        }
      },
      "outputs": [
        {
          "output_type": "display_data",
          "data": {
            "text/plain": [
              "  0%|          | 0/5 [00:00<?, ?it/s]"
            ],
            "application/vnd.jupyter.widget-view+json": {
              "version_major": 2,
              "version_minor": 0,
              "model_id": "e4734ff6e2674f8f8b0bdb429347d0ec"
            }
          },
          "metadata": {}
        },
        {
          "output_type": "stream",
          "name": "stdout",
          "text": [
            "Epoch: 1/5\n",
            "Epoch : 000, Training: Loss: 1.7606, Accuracy: 37.2700%, \n",
            "\t\tValidation : Loss : 1.6446, Accuracy: 41.5800%, Time: 94.9336s\n",
            "Epoch: 2/5\n",
            "Epoch : 001, Training: Loss: 1.6112, Accuracy: 43.0680%, \n",
            "\t\tValidation : Loss : 1.5910, Accuracy: 44.2200%, Time: 96.0206s\n",
            "Epoch: 3/5\n",
            "Epoch : 002, Training: Loss: 1.5761, Accuracy: 44.1500%, \n",
            "\t\tValidation : Loss : 1.5518, Accuracy: 45.3900%, Time: 95.6692s\n",
            "Epoch: 4/5\n"
          ]
        }
      ],
      "source": [
        "num_epochs = 5\n",
        "trained_model, history = train_and_validate(model_conv, loss_fn, optimizer, train_dataloader, test_dataloader, num_epochs)"
      ]
    },
    {
      "cell_type": "code",
      "execution_count": null,
      "metadata": {
        "id": "Fn-gDyEIbMr2"
      },
      "outputs": [],
      "source": [
        "plot_loss(history)\n",
        "plot_accuracy(history)"
      ]
    },
    {
      "cell_type": "code",
      "source": [
        "plot_confusionMatrix(trained_model, test_dataloader)"
      ],
      "metadata": {
        "id": "sPWFWHNtk6hV"
      },
      "execution_count": null,
      "outputs": []
    },
    {
      "cell_type": "markdown",
      "metadata": {
        "id": "0wesCJc-bMr3"
      },
      "source": [
        "Further Learning\n",
        "-----------------\n",
        "\n",
        "If you would like to learn more about the applications of transfer learning,\n",
        "checkout our `Quantized Transfer Learning for Computer Vision Tutorial <https://pytorch.org/tutorials/intermediate/quantized_transfer_learning_tutorial.html>`_.\n",
        "\n",
        "\n",
        "\n"
      ]
    },
    {
      "cell_type": "markdown",
      "source": [
        "#Data Augmentation"
      ],
      "metadata": {
        "id": "u22mT4uBAw09"
      }
    },
    {
      "cell_type": "code",
      "source": [
        "def get_dataloader(batch_size=4, num_workers=0, root='./data'):\n",
        "    transform = transforms.Compose([\n",
        "        transforms.RandomResizedCrop(size=256, scale=(0.8, 1.0)),\n",
        "        transforms.RandomRotation(degrees=15),\n",
        "        transforms.RandomHorizontalFlip(),\n",
        "        transforms.CenterCrop(size=224),\n",
        "        transforms.ToTensor(),\n",
        "        transforms.Normalize([0.485, 0.456, 0.406],\n",
        "                             [0.229, 0.224, 0.225])\n",
        "    ])\n",
        "\n",
        "    train_dataset = CIFAR10Dataset(root=root, train=True, transform=transform)\n",
        "    test_dataset = CIFAR10Dataset(root=root, train=False, transform=transform)\n",
        "\n",
        "    train_dataloader = torch.utils.data.DataLoader(train_dataset, batch_size=batch_size, shuffle=True, num_workers=num_workers)\n",
        "    test_dataloader = torch.utils.data.DataLoader(test_dataset, batch_size=batch_size, shuffle=False, num_workers=num_workers)\n",
        "\n",
        "    return train_dataloader, test_dataloader"
      ],
      "metadata": {
        "id": "OWaWPFBeAznF"
      },
      "execution_count": null,
      "outputs": []
    }
  ],
  "metadata": {
    "kernelspec": {
      "display_name": "Python 3",
      "name": "python3"
    },
    "language_info": {
      "codemirror_mode": {
        "name": "ipython",
        "version": 3
      },
      "file_extension": ".py",
      "mimetype": "text/x-python",
      "name": "python",
      "nbconvert_exporter": "python",
      "pygments_lexer": "ipython3",
      "version": "3.7.9"
    },
    "colab": {
      "provenance": [],
      "gpuType": "T4"
    },
    "accelerator": "GPU",
    "widgets": {
      "application/vnd.jupyter.widget-state+json": {
        "e4734ff6e2674f8f8b0bdb429347d0ec": {
          "model_module": "@jupyter-widgets/controls",
          "model_name": "HBoxModel",
          "model_module_version": "1.5.0",
          "state": {
            "_dom_classes": [],
            "_model_module": "@jupyter-widgets/controls",
            "_model_module_version": "1.5.0",
            "_model_name": "HBoxModel",
            "_view_count": null,
            "_view_module": "@jupyter-widgets/controls",
            "_view_module_version": "1.5.0",
            "_view_name": "HBoxView",
            "box_style": "",
            "children": [
              "IPY_MODEL_154be9cd3e9242ff88aa8931b7559082",
              "IPY_MODEL_afa62399be024226ac84651ed63d7f21",
              "IPY_MODEL_433a62a329d0491d96b4025f788ce6e9"
            ],
            "layout": "IPY_MODEL_bd9632ee9aa645d4908d1234dd09dc97"
          }
        },
        "154be9cd3e9242ff88aa8931b7559082": {
          "model_module": "@jupyter-widgets/controls",
          "model_name": "HTMLModel",
          "model_module_version": "1.5.0",
          "state": {
            "_dom_classes": [],
            "_model_module": "@jupyter-widgets/controls",
            "_model_module_version": "1.5.0",
            "_model_name": "HTMLModel",
            "_view_count": null,
            "_view_module": "@jupyter-widgets/controls",
            "_view_module_version": "1.5.0",
            "_view_name": "HTMLView",
            "description": "",
            "description_tooltip": null,
            "layout": "IPY_MODEL_85593d2bce7f49b6a7314528603efcbe",
            "placeholder": "​",
            "style": "IPY_MODEL_80128ebeceab475eab712e7378e3cd68",
            "value": " 60%"
          }
        },
        "afa62399be024226ac84651ed63d7f21": {
          "model_module": "@jupyter-widgets/controls",
          "model_name": "FloatProgressModel",
          "model_module_version": "1.5.0",
          "state": {
            "_dom_classes": [],
            "_model_module": "@jupyter-widgets/controls",
            "_model_module_version": "1.5.0",
            "_model_name": "FloatProgressModel",
            "_view_count": null,
            "_view_module": "@jupyter-widgets/controls",
            "_view_module_version": "1.5.0",
            "_view_name": "ProgressView",
            "bar_style": "",
            "description": "",
            "description_tooltip": null,
            "layout": "IPY_MODEL_8d6cb17026fd45678ed1f645d8547ba2",
            "max": 5,
            "min": 0,
            "orientation": "horizontal",
            "style": "IPY_MODEL_1f7b2b39c2a6461ba619cad5287a3065",
            "value": 3
          }
        },
        "433a62a329d0491d96b4025f788ce6e9": {
          "model_module": "@jupyter-widgets/controls",
          "model_name": "HTMLModel",
          "model_module_version": "1.5.0",
          "state": {
            "_dom_classes": [],
            "_model_module": "@jupyter-widgets/controls",
            "_model_module_version": "1.5.0",
            "_model_name": "HTMLModel",
            "_view_count": null,
            "_view_module": "@jupyter-widgets/controls",
            "_view_module_version": "1.5.0",
            "_view_name": "HTMLView",
            "description": "",
            "description_tooltip": null,
            "layout": "IPY_MODEL_523c7412e9f14c28b79a3c14e1993662",
            "placeholder": "​",
            "style": "IPY_MODEL_90501c692370444f9b3c4725203b58b4",
            "value": " 3/5 [04:46&lt;03:11, 95.73s/it]"
          }
        },
        "bd9632ee9aa645d4908d1234dd09dc97": {
          "model_module": "@jupyter-widgets/base",
          "model_name": "LayoutModel",
          "model_module_version": "1.2.0",
          "state": {
            "_model_module": "@jupyter-widgets/base",
            "_model_module_version": "1.2.0",
            "_model_name": "LayoutModel",
            "_view_count": null,
            "_view_module": "@jupyter-widgets/base",
            "_view_module_version": "1.2.0",
            "_view_name": "LayoutView",
            "align_content": null,
            "align_items": null,
            "align_self": null,
            "border": null,
            "bottom": null,
            "display": null,
            "flex": null,
            "flex_flow": null,
            "grid_area": null,
            "grid_auto_columns": null,
            "grid_auto_flow": null,
            "grid_auto_rows": null,
            "grid_column": null,
            "grid_gap": null,
            "grid_row": null,
            "grid_template_areas": null,
            "grid_template_columns": null,
            "grid_template_rows": null,
            "height": null,
            "justify_content": null,
            "justify_items": null,
            "left": null,
            "margin": null,
            "max_height": null,
            "max_width": null,
            "min_height": null,
            "min_width": null,
            "object_fit": null,
            "object_position": null,
            "order": null,
            "overflow": null,
            "overflow_x": null,
            "overflow_y": null,
            "padding": null,
            "right": null,
            "top": null,
            "visibility": null,
            "width": null
          }
        },
        "85593d2bce7f49b6a7314528603efcbe": {
          "model_module": "@jupyter-widgets/base",
          "model_name": "LayoutModel",
          "model_module_version": "1.2.0",
          "state": {
            "_model_module": "@jupyter-widgets/base",
            "_model_module_version": "1.2.0",
            "_model_name": "LayoutModel",
            "_view_count": null,
            "_view_module": "@jupyter-widgets/base",
            "_view_module_version": "1.2.0",
            "_view_name": "LayoutView",
            "align_content": null,
            "align_items": null,
            "align_self": null,
            "border": null,
            "bottom": null,
            "display": null,
            "flex": null,
            "flex_flow": null,
            "grid_area": null,
            "grid_auto_columns": null,
            "grid_auto_flow": null,
            "grid_auto_rows": null,
            "grid_column": null,
            "grid_gap": null,
            "grid_row": null,
            "grid_template_areas": null,
            "grid_template_columns": null,
            "grid_template_rows": null,
            "height": null,
            "justify_content": null,
            "justify_items": null,
            "left": null,
            "margin": null,
            "max_height": null,
            "max_width": null,
            "min_height": null,
            "min_width": null,
            "object_fit": null,
            "object_position": null,
            "order": null,
            "overflow": null,
            "overflow_x": null,
            "overflow_y": null,
            "padding": null,
            "right": null,
            "top": null,
            "visibility": null,
            "width": null
          }
        },
        "80128ebeceab475eab712e7378e3cd68": {
          "model_module": "@jupyter-widgets/controls",
          "model_name": "DescriptionStyleModel",
          "model_module_version": "1.5.0",
          "state": {
            "_model_module": "@jupyter-widgets/controls",
            "_model_module_version": "1.5.0",
            "_model_name": "DescriptionStyleModel",
            "_view_count": null,
            "_view_module": "@jupyter-widgets/base",
            "_view_module_version": "1.2.0",
            "_view_name": "StyleView",
            "description_width": ""
          }
        },
        "8d6cb17026fd45678ed1f645d8547ba2": {
          "model_module": "@jupyter-widgets/base",
          "model_name": "LayoutModel",
          "model_module_version": "1.2.0",
          "state": {
            "_model_module": "@jupyter-widgets/base",
            "_model_module_version": "1.2.0",
            "_model_name": "LayoutModel",
            "_view_count": null,
            "_view_module": "@jupyter-widgets/base",
            "_view_module_version": "1.2.0",
            "_view_name": "LayoutView",
            "align_content": null,
            "align_items": null,
            "align_self": null,
            "border": null,
            "bottom": null,
            "display": null,
            "flex": null,
            "flex_flow": null,
            "grid_area": null,
            "grid_auto_columns": null,
            "grid_auto_flow": null,
            "grid_auto_rows": null,
            "grid_column": null,
            "grid_gap": null,
            "grid_row": null,
            "grid_template_areas": null,
            "grid_template_columns": null,
            "grid_template_rows": null,
            "height": null,
            "justify_content": null,
            "justify_items": null,
            "left": null,
            "margin": null,
            "max_height": null,
            "max_width": null,
            "min_height": null,
            "min_width": null,
            "object_fit": null,
            "object_position": null,
            "order": null,
            "overflow": null,
            "overflow_x": null,
            "overflow_y": null,
            "padding": null,
            "right": null,
            "top": null,
            "visibility": null,
            "width": null
          }
        },
        "1f7b2b39c2a6461ba619cad5287a3065": {
          "model_module": "@jupyter-widgets/controls",
          "model_name": "ProgressStyleModel",
          "model_module_version": "1.5.0",
          "state": {
            "_model_module": "@jupyter-widgets/controls",
            "_model_module_version": "1.5.0",
            "_model_name": "ProgressStyleModel",
            "_view_count": null,
            "_view_module": "@jupyter-widgets/base",
            "_view_module_version": "1.2.0",
            "_view_name": "StyleView",
            "bar_color": null,
            "description_width": ""
          }
        },
        "523c7412e9f14c28b79a3c14e1993662": {
          "model_module": "@jupyter-widgets/base",
          "model_name": "LayoutModel",
          "model_module_version": "1.2.0",
          "state": {
            "_model_module": "@jupyter-widgets/base",
            "_model_module_version": "1.2.0",
            "_model_name": "LayoutModel",
            "_view_count": null,
            "_view_module": "@jupyter-widgets/base",
            "_view_module_version": "1.2.0",
            "_view_name": "LayoutView",
            "align_content": null,
            "align_items": null,
            "align_self": null,
            "border": null,
            "bottom": null,
            "display": null,
            "flex": null,
            "flex_flow": null,
            "grid_area": null,
            "grid_auto_columns": null,
            "grid_auto_flow": null,
            "grid_auto_rows": null,
            "grid_column": null,
            "grid_gap": null,
            "grid_row": null,
            "grid_template_areas": null,
            "grid_template_columns": null,
            "grid_template_rows": null,
            "height": null,
            "justify_content": null,
            "justify_items": null,
            "left": null,
            "margin": null,
            "max_height": null,
            "max_width": null,
            "min_height": null,
            "min_width": null,
            "object_fit": null,
            "object_position": null,
            "order": null,
            "overflow": null,
            "overflow_x": null,
            "overflow_y": null,
            "padding": null,
            "right": null,
            "top": null,
            "visibility": null,
            "width": null
          }
        },
        "90501c692370444f9b3c4725203b58b4": {
          "model_module": "@jupyter-widgets/controls",
          "model_name": "DescriptionStyleModel",
          "model_module_version": "1.5.0",
          "state": {
            "_model_module": "@jupyter-widgets/controls",
            "_model_module_version": "1.5.0",
            "_model_name": "DescriptionStyleModel",
            "_view_count": null,
            "_view_module": "@jupyter-widgets/base",
            "_view_module_version": "1.2.0",
            "_view_name": "StyleView",
            "description_width": ""
          }
        },
        "c931eb44f27e496584689de5125fdae8": {
          "model_module": "@jupyter-widgets/controls",
          "model_name": "HBoxModel",
          "model_module_version": "1.5.0",
          "state": {
            "_dom_classes": [],
            "_model_module": "@jupyter-widgets/controls",
            "_model_module_version": "1.5.0",
            "_model_name": "HBoxModel",
            "_view_count": null,
            "_view_module": "@jupyter-widgets/controls",
            "_view_module_version": "1.5.0",
            "_view_name": "HBoxView",
            "box_style": "",
            "children": [
              "IPY_MODEL_39910e1c10ca49f5b4c5dc45b83b90d4",
              "IPY_MODEL_fd2cac0282a84c16bc6115851798ad78",
              "IPY_MODEL_f3733f3459c24328a12f17e48fab93ea"
            ],
            "layout": "IPY_MODEL_2285b8c576cc4021b08a205a209bdde8"
          }
        },
        "39910e1c10ca49f5b4c5dc45b83b90d4": {
          "model_module": "@jupyter-widgets/controls",
          "model_name": "HTMLModel",
          "model_module_version": "1.5.0",
          "state": {
            "_dom_classes": [],
            "_model_module": "@jupyter-widgets/controls",
            "_model_module_version": "1.5.0",
            "_model_name": "HTMLModel",
            "_view_count": null,
            "_view_module": "@jupyter-widgets/controls",
            "_view_module_version": "1.5.0",
            "_view_name": "HTMLView",
            "description": "",
            "description_tooltip": null,
            "layout": "IPY_MODEL_fc28cfcddfdc44dba6232e6be4cd1b40",
            "placeholder": "​",
            "style": "IPY_MODEL_5be9cd32f022482d8f2f14dc352448f0",
            "value": "100%"
          }
        },
        "fd2cac0282a84c16bc6115851798ad78": {
          "model_module": "@jupyter-widgets/controls",
          "model_name": "FloatProgressModel",
          "model_module_version": "1.5.0",
          "state": {
            "_dom_classes": [],
            "_model_module": "@jupyter-widgets/controls",
            "_model_module_version": "1.5.0",
            "_model_name": "FloatProgressModel",
            "_view_count": null,
            "_view_module": "@jupyter-widgets/controls",
            "_view_module_version": "1.5.0",
            "_view_name": "ProgressView",
            "bar_style": "success",
            "description": "",
            "description_tooltip": null,
            "layout": "IPY_MODEL_f465fd15714a41df8c73aac0a18745fd",
            "max": 5,
            "min": 0,
            "orientation": "horizontal",
            "style": "IPY_MODEL_942dd695c79144a1bc6eac8523be308b",
            "value": 5
          }
        },
        "f3733f3459c24328a12f17e48fab93ea": {
          "model_module": "@jupyter-widgets/controls",
          "model_name": "HTMLModel",
          "model_module_version": "1.5.0",
          "state": {
            "_dom_classes": [],
            "_model_module": "@jupyter-widgets/controls",
            "_model_module_version": "1.5.0",
            "_model_name": "HTMLModel",
            "_view_count": null,
            "_view_module": "@jupyter-widgets/controls",
            "_view_module_version": "1.5.0",
            "_view_name": "HTMLView",
            "description": "",
            "description_tooltip": null,
            "layout": "IPY_MODEL_ef76ff2c449e4112981a6684f36c38a4",
            "placeholder": "​",
            "style": "IPY_MODEL_80a2c065a6594472b903f60d251bf956",
            "value": " 5/5 [14:18&lt;00:00, 171.84s/it]"
          }
        },
        "2285b8c576cc4021b08a205a209bdde8": {
          "model_module": "@jupyter-widgets/base",
          "model_name": "LayoutModel",
          "model_module_version": "1.2.0",
          "state": {
            "_model_module": "@jupyter-widgets/base",
            "_model_module_version": "1.2.0",
            "_model_name": "LayoutModel",
            "_view_count": null,
            "_view_module": "@jupyter-widgets/base",
            "_view_module_version": "1.2.0",
            "_view_name": "LayoutView",
            "align_content": null,
            "align_items": null,
            "align_self": null,
            "border": null,
            "bottom": null,
            "display": null,
            "flex": null,
            "flex_flow": null,
            "grid_area": null,
            "grid_auto_columns": null,
            "grid_auto_flow": null,
            "grid_auto_rows": null,
            "grid_column": null,
            "grid_gap": null,
            "grid_row": null,
            "grid_template_areas": null,
            "grid_template_columns": null,
            "grid_template_rows": null,
            "height": null,
            "justify_content": null,
            "justify_items": null,
            "left": null,
            "margin": null,
            "max_height": null,
            "max_width": null,
            "min_height": null,
            "min_width": null,
            "object_fit": null,
            "object_position": null,
            "order": null,
            "overflow": null,
            "overflow_x": null,
            "overflow_y": null,
            "padding": null,
            "right": null,
            "top": null,
            "visibility": null,
            "width": null
          }
        },
        "fc28cfcddfdc44dba6232e6be4cd1b40": {
          "model_module": "@jupyter-widgets/base",
          "model_name": "LayoutModel",
          "model_module_version": "1.2.0",
          "state": {
            "_model_module": "@jupyter-widgets/base",
            "_model_module_version": "1.2.0",
            "_model_name": "LayoutModel",
            "_view_count": null,
            "_view_module": "@jupyter-widgets/base",
            "_view_module_version": "1.2.0",
            "_view_name": "LayoutView",
            "align_content": null,
            "align_items": null,
            "align_self": null,
            "border": null,
            "bottom": null,
            "display": null,
            "flex": null,
            "flex_flow": null,
            "grid_area": null,
            "grid_auto_columns": null,
            "grid_auto_flow": null,
            "grid_auto_rows": null,
            "grid_column": null,
            "grid_gap": null,
            "grid_row": null,
            "grid_template_areas": null,
            "grid_template_columns": null,
            "grid_template_rows": null,
            "height": null,
            "justify_content": null,
            "justify_items": null,
            "left": null,
            "margin": null,
            "max_height": null,
            "max_width": null,
            "min_height": null,
            "min_width": null,
            "object_fit": null,
            "object_position": null,
            "order": null,
            "overflow": null,
            "overflow_x": null,
            "overflow_y": null,
            "padding": null,
            "right": null,
            "top": null,
            "visibility": null,
            "width": null
          }
        },
        "5be9cd32f022482d8f2f14dc352448f0": {
          "model_module": "@jupyter-widgets/controls",
          "model_name": "DescriptionStyleModel",
          "model_module_version": "1.5.0",
          "state": {
            "_model_module": "@jupyter-widgets/controls",
            "_model_module_version": "1.5.0",
            "_model_name": "DescriptionStyleModel",
            "_view_count": null,
            "_view_module": "@jupyter-widgets/base",
            "_view_module_version": "1.2.0",
            "_view_name": "StyleView",
            "description_width": ""
          }
        },
        "f465fd15714a41df8c73aac0a18745fd": {
          "model_module": "@jupyter-widgets/base",
          "model_name": "LayoutModel",
          "model_module_version": "1.2.0",
          "state": {
            "_model_module": "@jupyter-widgets/base",
            "_model_module_version": "1.2.0",
            "_model_name": "LayoutModel",
            "_view_count": null,
            "_view_module": "@jupyter-widgets/base",
            "_view_module_version": "1.2.0",
            "_view_name": "LayoutView",
            "align_content": null,
            "align_items": null,
            "align_self": null,
            "border": null,
            "bottom": null,
            "display": null,
            "flex": null,
            "flex_flow": null,
            "grid_area": null,
            "grid_auto_columns": null,
            "grid_auto_flow": null,
            "grid_auto_rows": null,
            "grid_column": null,
            "grid_gap": null,
            "grid_row": null,
            "grid_template_areas": null,
            "grid_template_columns": null,
            "grid_template_rows": null,
            "height": null,
            "justify_content": null,
            "justify_items": null,
            "left": null,
            "margin": null,
            "max_height": null,
            "max_width": null,
            "min_height": null,
            "min_width": null,
            "object_fit": null,
            "object_position": null,
            "order": null,
            "overflow": null,
            "overflow_x": null,
            "overflow_y": null,
            "padding": null,
            "right": null,
            "top": null,
            "visibility": null,
            "width": null
          }
        },
        "942dd695c79144a1bc6eac8523be308b": {
          "model_module": "@jupyter-widgets/controls",
          "model_name": "ProgressStyleModel",
          "model_module_version": "1.5.0",
          "state": {
            "_model_module": "@jupyter-widgets/controls",
            "_model_module_version": "1.5.0",
            "_model_name": "ProgressStyleModel",
            "_view_count": null,
            "_view_module": "@jupyter-widgets/base",
            "_view_module_version": "1.2.0",
            "_view_name": "StyleView",
            "bar_color": null,
            "description_width": ""
          }
        },
        "ef76ff2c449e4112981a6684f36c38a4": {
          "model_module": "@jupyter-widgets/base",
          "model_name": "LayoutModel",
          "model_module_version": "1.2.0",
          "state": {
            "_model_module": "@jupyter-widgets/base",
            "_model_module_version": "1.2.0",
            "_model_name": "LayoutModel",
            "_view_count": null,
            "_view_module": "@jupyter-widgets/base",
            "_view_module_version": "1.2.0",
            "_view_name": "LayoutView",
            "align_content": null,
            "align_items": null,
            "align_self": null,
            "border": null,
            "bottom": null,
            "display": null,
            "flex": null,
            "flex_flow": null,
            "grid_area": null,
            "grid_auto_columns": null,
            "grid_auto_flow": null,
            "grid_auto_rows": null,
            "grid_column": null,
            "grid_gap": null,
            "grid_row": null,
            "grid_template_areas": null,
            "grid_template_columns": null,
            "grid_template_rows": null,
            "height": null,
            "justify_content": null,
            "justify_items": null,
            "left": null,
            "margin": null,
            "max_height": null,
            "max_width": null,
            "min_height": null,
            "min_width": null,
            "object_fit": null,
            "object_position": null,
            "order": null,
            "overflow": null,
            "overflow_x": null,
            "overflow_y": null,
            "padding": null,
            "right": null,
            "top": null,
            "visibility": null,
            "width": null
          }
        },
        "80a2c065a6594472b903f60d251bf956": {
          "model_module": "@jupyter-widgets/controls",
          "model_name": "DescriptionStyleModel",
          "model_module_version": "1.5.0",
          "state": {
            "_model_module": "@jupyter-widgets/controls",
            "_model_module_version": "1.5.0",
            "_model_name": "DescriptionStyleModel",
            "_view_count": null,
            "_view_module": "@jupyter-widgets/base",
            "_view_module_version": "1.2.0",
            "_view_name": "StyleView",
            "description_width": ""
          }
        }
      }
    }
  },
  "nbformat": 4,
  "nbformat_minor": 0
}